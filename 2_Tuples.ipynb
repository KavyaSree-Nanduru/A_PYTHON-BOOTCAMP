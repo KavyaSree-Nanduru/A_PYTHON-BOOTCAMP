{
 "cells": [
  {
   "cell_type": "markdown",
   "id": "07830de8",
   "metadata": {},
   "source": [
    "### Built-in datatypes in Python\n",
    "There are four built-in datatypes in Python to represent collection of data. They are:<br>\n",
    "List - Ordered and Changeable. Allows duplicates. Represented in []<br>\n",
    "Tuple - Ordered and Unchangeable. Allows duplicates. Represented in ()<br>\n",
    "Set - Unordered, Unchangeable*, and unindexed. No duplicates. Represented in {}<br>\n",
    "Dictionary - Ordered(from python 3.7) and changeable. No duplicates. Represented in {}<br>"
   ]
  },
  {
   "cell_type": "markdown",
   "id": "57d33778",
   "metadata": {},
   "source": [
    "## TUPLES"
   ]
  },
  {
   "cell_type": "code",
   "execution_count": 4,
   "id": "d2bcbfd3",
   "metadata": {
    "collapsed": true
   },
   "outputs": [
    {
     "name": "stdout",
     "output_type": "stream",
     "text": [
      "<class 'tuple'>\n"
     ]
    }
   ],
   "source": [
    "# Declaring or packing a tuple\n",
    "a = (1,2,3,4,5,6) \n",
    "print(type(a))"
   ]
  },
  {
   "cell_type": "code",
   "execution_count": 11,
   "id": "a492a03a",
   "metadata": {
    "collapsed": true
   },
   "outputs": [
    {
     "name": "stdout",
     "output_type": "stream",
     "text": [
      "('a', 'b', 'c', 'd', 'e')\n",
      "(1, 2, 3, 4, 5)\n"
     ]
    }
   ],
   "source": [
    "# Declaring a tuple using key word\n",
    "a = tuple(('a','b','c','d','e'))\n",
    "\n",
    "# Other way of declaring a tuple\n",
    "b = 1,2,3,4,5 \n",
    "\n",
    "print(a)\n",
    "print(b)"
   ]
  },
  {
   "cell_type": "code",
   "execution_count": 55,
   "id": "208bf090",
   "metadata": {
    "collapsed": true
   },
   "outputs": [
    {
     "name": "stdout",
     "output_type": "stream",
     "text": [
      "apple\n",
      "banana\n",
      "cherry\n"
     ]
    }
   ],
   "source": [
    "# Unpacking of a tuple\n",
    "\n",
    "fruits = (\"apple\", \"banana\", \"cherry\")\n",
    "(green, yellow, red) = fruits\n",
    "\n",
    "print(green)\n",
    "print(yellow)\n",
    "print(red)"
   ]
  },
  {
   "cell_type": "code",
   "execution_count": 56,
   "id": "8da079ed",
   "metadata": {
    "collapsed": true
   },
   "outputs": [
    {
     "name": "stdout",
     "output_type": "stream",
     "text": [
      "apple\n",
      "banana\n",
      "['cherry', 'strawberry', 'raspberry']\n"
     ]
    }
   ],
   "source": [
    "# Unpacking of a tuple\n",
    "\n",
    "fruits = (\"apple\", \"banana\", \"cherry\", \"strawberry\", \"raspberry\")\n",
    "(green, yellow, *red) = fruits\n",
    "print(green)\n",
    "print(yellow)\n",
    "print(red)"
   ]
  },
  {
   "cell_type": "code",
   "execution_count": 57,
   "id": "9ac24e18",
   "metadata": {
    "collapsed": true
   },
   "outputs": [
    {
     "name": "stdout",
     "output_type": "stream",
     "text": [
      "apple\n",
      "['mango', 'papaya', 'pineapple']\n",
      "cherry\n"
     ]
    }
   ],
   "source": [
    "# Unpacking of a tuple\n",
    "\n",
    "fruits = (\"apple\", \"mango\", \"papaya\", \"pineapple\", \"cherry\")\n",
    "(green, *tropic, red) = fruits\n",
    "\n",
    "print(green)\n",
    "print(tropic)\n",
    "print(red)"
   ]
  },
  {
   "cell_type": "code",
   "execution_count": 6,
   "id": "6db9a78b",
   "metadata": {
    "collapsed": true
   },
   "outputs": [
    {
     "name": "stdout",
     "output_type": "stream",
     "text": [
      "Length of the tuple is: 6\n"
     ]
    }
   ],
   "source": [
    "# Length of tuple\n",
    "a = (1,2,3,4,5,6) \n",
    "print(\"Length of the tuple is:\",len(a)) "
   ]
  },
  {
   "cell_type": "code",
   "execution_count": 9,
   "id": "4477bed9",
   "metadata": {
    "collapsed": true
   },
   "outputs": [
    {
     "name": "stdout",
     "output_type": "stream",
     "text": [
      "Type of a is: <class 'int'>\n",
      "Type of b is: <class 'tuple'>\n"
     ]
    }
   ],
   "source": [
    "# Tuple must contain minimum of 2 elements.\n",
    "a = (1)\n",
    "b = (1,)\n",
    "print(\"Type of a is:\",type(a))\n",
    "print(\"Type of b is:\",type(b))"
   ]
  },
  {
   "cell_type": "code",
   "execution_count": 1,
   "id": "b5adf856",
   "metadata": {
    "collapsed": true
   },
   "outputs": [
    {
     "name": "stdout",
     "output_type": "stream",
     "text": [
      "Element at index 1: 2\n",
      "Last element: 10\n",
      "Elements from last: (7, 8, 9)\n",
      "Elements from index 2 to 5: (3, 4, 5, 6)\n",
      "Elements from index 2: (3, 4, 5, 6, 7, 8, 9, 10)\n",
      "Elements till index 8: (1, 2, 3, 4, 5, 6, 7, 8, 9)\n",
      "All the elements: (1, 2, 3, 4, 5, 6, 7, 8, 9, 10)\n"
     ]
    }
   ],
   "source": [
    "#ACCESSING TUPLE ITEMS\n",
    "a = (1,2,3,4,5,6,7,8,9,10)\n",
    "print(\"Element at index 1:\",a[1])\n",
    "print(\"Last element:\",a[-1])\n",
    "print(\"Elements from last:\",a[-4:-1])\n",
    "print(\"Elements from index 2 to 5:\",a[2:6])\n",
    "print(\"Elements from index 2:\",a[2:])\n",
    "print(\"Elements till index 8:\",a[:9])\n",
    "print(\"All the elements:\",a[::])"
   ]
  },
  {
   "cell_type": "code",
   "execution_count": 18,
   "id": "150b2ab9",
   "metadata": {
    "collapsed": true
   },
   "outputs": [
    {
     "name": "stdout",
     "output_type": "stream",
     "text": [
      "1\n",
      "2\n",
      "3\n",
      "4\n",
      "5\n"
     ]
    }
   ],
   "source": [
    "# Traversing through the tuple\n",
    "a = (1,2,3,4,5) \n",
    "for x in a:\n",
    "  print(x)"
   ]
  },
  {
   "cell_type": "code",
   "execution_count": 19,
   "id": "64907e50",
   "metadata": {
    "collapsed": true
   },
   "outputs": [
    {
     "name": "stdout",
     "output_type": "stream",
     "text": [
      "1\n",
      "2\n",
      "3\n",
      "4\n",
      "5\n"
     ]
    }
   ],
   "source": [
    "# Traversing through the tuple\n",
    "a = (1,2,3,4,5) \n",
    "for i in range (len(a)):\n",
    "  print(a[i])"
   ]
  },
  {
   "cell_type": "code",
   "execution_count": 58,
   "id": "078b1fed",
   "metadata": {
    "collapsed": true
   },
   "outputs": [
    {
     "name": "stdout",
     "output_type": "stream",
     "text": [
      "1\n",
      "2\n",
      "3\n",
      "4\n",
      "5\n"
     ]
    }
   ],
   "source": [
    "# Traversing through the tuple\n",
    "a = (1,2,3,4,5) \n",
    "i = 0\n",
    "while i < len(a):\n",
    "  print(a[i])\n",
    "  i = i + 1"
   ]
  },
  {
   "cell_type": "code",
   "execution_count": 47,
   "id": "e6315d45",
   "metadata": {
    "collapsed": true
   },
   "outputs": [
    {
     "name": "stdout",
     "output_type": "stream",
     "text": [
      "Yes 1 is present\n"
     ]
    }
   ],
   "source": [
    "#Checking if a particular element is present:\n",
    "a = (1,2,3,4,5,6)\n",
    "if 1 in a:\n",
    "    print(\"Yes 1 is present\")"
   ]
  },
  {
   "cell_type": "markdown",
   "id": "74d28e0f",
   "metadata": {},
   "source": [
    "#### Since tuples are unchangeable, we convert them to lists and make necessary changes"
   ]
  },
  {
   "cell_type": "code",
   "execution_count": 2,
   "id": "93550396",
   "metadata": {
    "collapsed": true
   },
   "outputs": [
    {
     "name": "stdout",
     "output_type": "stream",
     "text": [
      "x is: (1, 1.233, 3, 4, 5)\n",
      "y is: [1, 1.233, 3, 4, 5]\n",
      "Type of x is: <class 'tuple'>\n",
      "Type of y is: <class 'list'>\n"
     ]
    }
   ],
   "source": [
    "# Converting list to tuple and changing values\n",
    "x = (1,2,3,4,5) \n",
    "y = list(x)\n",
    "y[1] = 1.233\n",
    "x = tuple(y)\n",
    "\n",
    "print(\"x is:\",x)\n",
    "print(\"y is:\",y)\n",
    "print(\"Type of x is:\", type(x))\n",
    "print(\"Type of y is:\", type(y))"
   ]
  },
  {
   "cell_type": "code",
   "execution_count": 51,
   "id": "6dae5a03",
   "metadata": {
    "collapsed": true
   },
   "outputs": [
    {
     "name": "stdout",
     "output_type": "stream",
     "text": [
      "a is: ('apple', 'banana', 'cherry', 'orange')\n"
     ]
    }
   ],
   "source": [
    "# Adding items to tuple - CONVERT TO A LIST\n",
    "a = (\"apple\", \"banana\", \"cherry\")\n",
    "b = list(a)\n",
    "b.append(\"orange\")\n",
    "a = tuple(b)\n",
    "print(\"a is:\",a)"
   ]
  },
  {
   "cell_type": "code",
   "execution_count": 54,
   "id": "c5c023fc",
   "metadata": {
    "collapsed": true
   },
   "outputs": [
    {
     "name": "stdout",
     "output_type": "stream",
     "text": [
      "a is: ('banana', 'cherry')\n"
     ]
    }
   ],
   "source": [
    "# Deleting items from a tuple\n",
    "a = (\"apple\", \"banana\", \"cherry\")\n",
    "b = list(a)\n",
    "b.remove(\"apple\")\n",
    "a = tuple(b)\n",
    "print(\"a is:\",a)"
   ]
  },
  {
   "cell_type": "code",
   "execution_count": 53,
   "id": "470709f1",
   "metadata": {
    "collapsed": true
   },
   "outputs": [
    {
     "name": "stdout",
     "output_type": "stream",
     "text": [
      "('apple', 'banana', 'cherry', 'orange')\n"
     ]
    }
   ],
   "source": [
    "# Adding tuple to a tuple\n",
    "a = (\"apple\", \"banana\", \"cherry\")\n",
    "b = (\"orange\",)\n",
    "a += b\n",
    "print(\"a is:\",a)"
   ]
  },
  {
   "cell_type": "code",
   "execution_count": 43,
   "id": "51199394",
   "metadata": {
    "collapsed": true
   },
   "outputs": [
    {
     "name": "stdout",
     "output_type": "stream",
     "text": [
      "(1, 2, 3, 'a', 'b')\n"
     ]
    }
   ],
   "source": [
    "# Joining two tuples\n",
    "a = (1,2,3) \n",
    "b = ('a','b')\n",
    "c = a+b\n",
    "print(c)"
   ]
  },
  {
   "cell_type": "code",
   "execution_count": 46,
   "id": "724903dd",
   "metadata": {
    "collapsed": true
   },
   "outputs": [
    {
     "name": "stdout",
     "output_type": "stream",
     "text": [
      "('a', 'b', 'c', 'a', 'b', 'c')\n"
     ]
    }
   ],
   "source": [
    "# Multiplying a tuple\n",
    "x = ('a','b','c') \n",
    "y = x*2\n",
    "print(y)"
   ]
  },
  {
   "cell_type": "code",
   "execution_count": 3,
   "id": "f165d639",
   "metadata": {
    "collapsed": true
   },
   "outputs": [
    {
     "name": "stdout",
     "output_type": "stream",
     "text": [
      "(1, 2, 3, 4, 5)\n"
     ]
    }
   ],
   "source": [
    "# Copying a tuple \n",
    "a = (1,2,3,4,5)\n",
    "b = a\n",
    "print(b)"
   ]
  },
  {
   "cell_type": "code",
   "execution_count": 4,
   "id": "4d8673b4",
   "metadata": {
    "collapsed": true
   },
   "outputs": [
    {
     "name": "stdout",
     "output_type": "stream",
     "text": [
      "They are equal\n"
     ]
    }
   ],
   "source": [
    "# Comparing two tuples\n",
    "a = (1,2,3)\n",
    "b = (1,2,3)\n",
    "if a==b:\n",
    "    print(\"They are equal\")\n",
    "else:\n",
    "    print(\"They are not equal\")"
   ]
  },
  {
   "cell_type": "markdown",
   "id": "8119ffd5",
   "metadata": {},
   "source": [
    "#### TUPLE METHODS"
   ]
  },
  {
   "cell_type": "code",
   "execution_count": 60,
   "id": "00c0aae2",
   "metadata": {
    "collapsed": true
   },
   "outputs": [
    {
     "name": "stdout",
     "output_type": "stream",
     "text": [
      "4\n"
     ]
    }
   ],
   "source": [
    "# count(element) - Gives count of particular element\n",
    "a = (1, 3, 7, 8, 7, 5, 4, 6, 8, 5, 5, 5)\n",
    "x = a.count(5)\n",
    "print(x)"
   ]
  },
  {
   "cell_type": "code",
   "execution_count": 62,
   "id": "631d9bc7",
   "metadata": {
    "collapsed": true
   },
   "outputs": [
    {
     "name": "stdout",
     "output_type": "stream",
     "text": [
      "3\n"
     ]
    }
   ],
   "source": [
    "# tuple_name.index(element) - Gives index of partucular element\n",
    "a = (1, 3, 7, 8, 7, 5, 4, 6, 8, 5)\n",
    "x = a.index(8)\n",
    "print(x)"
   ]
  },
  {
   "cell_type": "markdown",
   "id": "bc4e9e8c",
   "metadata": {},
   "source": [
    "## TUPLE METHODS"
   ]
  },
  {
   "cell_type": "markdown",
   "id": "4bb1e19f",
   "metadata": {},
   "source": [
    "Let a be a tuple:<br>\n",
    "Length : len(a)<br>\n",
    "Count of particular element: a.count(element)<br>\n",
    "Index of particular element: a.index(element)<br>"
   ]
  }
 ],
 "metadata": {
  "kernelspec": {
   "display_name": "Python 3 (ipykernel)",
   "language": "python",
   "name": "python3"
  },
  "language_info": {
   "codemirror_mode": {
    "name": "ipython",
    "version": 3
   },
   "file_extension": ".py",
   "mimetype": "text/x-python",
   "name": "python",
   "nbconvert_exporter": "python",
   "pygments_lexer": "ipython3",
   "version": "3.9.13"
  }
 },
 "nbformat": 4,
 "nbformat_minor": 5
}
