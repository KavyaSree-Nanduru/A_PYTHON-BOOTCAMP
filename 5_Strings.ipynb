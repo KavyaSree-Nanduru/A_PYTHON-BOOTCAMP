{
 "cells": [
  {
   "cell_type": "markdown",
   "id": "d367e3a6",
   "metadata": {},
   "source": [
    "## Strings\n",
    "#### Strings in Python are sequences of characters enclosed in quotes. They are immutable(once created,cannot be changed). You can use either single quotes ('), double quotes (\"), or triple quotes (''' or \"\"\") for multi-line strings."
   ]
  },
  {
   "cell_type": "code",
   "execution_count": 2,
   "id": "e16167ef",
   "metadata": {
    "collapsed": true
   },
   "outputs": [
    {
     "name": "stdout",
     "output_type": "stream",
     "text": [
      "Hello\n",
      "Hello\n",
      "This is a\n",
      "multi-line string.\n"
     ]
    }
   ],
   "source": [
    "a = \"Hello\"\n",
    "b = 'Hello'\n",
    "c = \"\"\"This is a\n",
    "multi-line string.\"\"\"\n",
    "\n",
    "print(a)\n",
    "print(b)\n",
    "print(c)"
   ]
  },
  {
   "cell_type": "code",
   "execution_count": 3,
   "id": "42eaad9b",
   "metadata": {
    "collapsed": true
   },
   "outputs": [
    {
     "name": "stdout",
     "output_type": "stream",
     "text": [
      "cupboard\n",
      "cup board\n",
      "cup             board\n"
     ]
    }
   ],
   "source": [
    "# String Concatenation\n",
    "print('cup'+'board')\n",
    "print('cup'+\" \"+'board')\n",
    "print('cup             ' + 'board')"
   ]
  },
  {
   "cell_type": "code",
   "execution_count": 4,
   "id": "529aacb3",
   "metadata": {
    "collapsed": true
   },
   "outputs": [
    {
     "name": "stdout",
     "output_type": "stream",
     "text": [
      "HelloHelloHello\n"
     ]
    }
   ],
   "source": [
    "# String Repetition\n",
    "a = \"Hello\"\n",
    "result = a * 3\n",
    "print(result) "
   ]
  },
  {
   "cell_type": "code",
   "execution_count": 5,
   "id": "08d09439",
   "metadata": {
    "collapsed": true
   },
   "outputs": [
    {
     "name": "stdout",
     "output_type": "stream",
     "text": [
      "He said 'hello' to her.\n",
      "He said 'hello' to her.\n"
     ]
    }
   ],
   "source": [
    "#If text itself is to be included in quotes, then define it surrounded by the other quotes.\n",
    "print(\"He said 'hello' to her.\")\n",
    "\n",
    "#Flagging a character\n",
    "print('He said \\'hello\\' to her.')"
   ]
  },
  {
   "cell_type": "code",
   "execution_count": 6,
   "id": "8c715e85",
   "metadata": {
    "collapsed": true
   },
   "outputs": [
    {
     "name": "stdout",
     "output_type": "stream",
     "text": [
      "Hello\n",
      "world!\n",
      "Hello\n",
      "world!\n"
     ]
    }
   ],
   "source": [
    "#Printing in a new line\n",
    "print('Hello\\nworld!')\n",
    "\n",
    "#Using triple quotes, we can print text in next line without using \\n\n",
    "print('''Hello\n",
    "world!''')"
   ]
  },
  {
   "cell_type": "code",
   "execution_count": 7,
   "id": "0fcd6968",
   "metadata": {
    "collapsed": true
   },
   "outputs": [
    {
     "name": "stdout",
     "output_type": "stream",
     "text": [
      "12\n"
     ]
    }
   ],
   "source": [
    "# \\n is considered as a single character\n",
    "print(len('Hello\\nworld!'))"
   ]
  },
  {
   "cell_type": "code",
   "execution_count": 8,
   "id": "76dd1655",
   "metadata": {
    "collapsed": true
   },
   "outputs": [
    {
     "name": "stdout",
     "output_type": "stream",
     "text": [
      "o\n",
      "d\n",
      "11\n"
     ]
    }
   ],
   "source": [
    "# String Indexing\n",
    "a = 'Hello World'\n",
    "print(a[4])\n",
    "print(a[-1])\n",
    "print(len(a))"
   ]
  },
  {
   "cell_type": "code",
   "execution_count": null,
   "id": "bceeb21f",
   "metadata": {},
   "outputs": [],
   "source": [
    "# Sring Slicing\n",
    "a = 'HELLO WORLD'\n",
    "print(a[2:8])\n",
    "print(a[:8])\n",
    "print(a[2:])\n",
    "print(a[-1])\n",
    "print(a[-5:-2])"
   ]
  },
  {
   "cell_type": "code",
   "execution_count": 9,
   "id": "530ad5a2",
   "metadata": {
    "collapsed": true
   },
   "outputs": [
    {
     "name": "stdout",
     "output_type": "stream",
     "text": [
      "b\n",
      "a\n",
      "n\n",
      "a\n",
      "n\n",
      "a\n"
     ]
    }
   ],
   "source": [
    "# Looping through a string\n",
    "for x in \"banana\":\n",
    "  print(x)"
   ]
  },
  {
   "cell_type": "code",
   "execution_count": 10,
   "id": "265a5c60",
   "metadata": {
    "collapsed": true
   },
   "outputs": [
    {
     "name": "stdout",
     "output_type": "stream",
     "text": [
      "YES-1\n",
      "YES-3\n"
     ]
    }
   ],
   "source": [
    "# Operators: in & not in\n",
    "a = 'Good Morning everyone'\n",
    "if 'Good' in a:\n",
    "    print(\"YES-1\")\n",
    "if 'good' in a: # Case sensitive\n",
    "    print(\"YES-2\")\n",
    "if 'bad' not in a:\n",
    "    print(\"YES-3\")"
   ]
  },
  {
   "cell_type": "code",
   "execution_count": 50,
   "id": "25b40d84",
   "metadata": {
    "collapsed": true
   },
   "outputs": [
    {
     "name": "stdout",
     "output_type": "stream",
     "text": [
      "I paid 50 dollars for 3 pieces of item 567\n",
      "I paid 50 dollars for 3 pieces of item 567.\n",
      "I paid 50 dollars for 3 pieces of item 567\n",
      "Kavya paid 50 dollars for 3 pieces of item 567\n",
      "I have a Ford, it is a Mustang.\n"
     ]
    }
   ],
   "source": [
    "# String Formatting\n",
    "quantity = 3\n",
    "item_number = 567\n",
    "price = 50\n",
    "name = \"Kavya\"\n",
    "\n",
    "a = \"I paid {} dollars for {} pieces of item {}\"\n",
    "print(a.format(price,quantity,item_number))\n",
    "\n",
    "b = \"I paid {2} dollars for {0} pieces of item {1}.\"\n",
    "print(b.format(quantity, item_number, price))\n",
    "\n",
    "c = f\"I paid {price} dollars for {quantity} pieces of item {item_number}\"\n",
    "print(c) \n",
    "\n",
    "d = \"%s paid %d dollars for %d pieces of item %d\" %(name,price,quantity,item_number)\n",
    "print(d)"
   ]
  },
  {
   "cell_type": "code",
   "execution_count": null,
   "id": "c222f510",
   "metadata": {},
   "outputs": [],
   "source": [
    "# Named Indexes\n",
    "a1 = \"I have a {carname}, it is a {model}.\"\n",
    "print(a1.format(carname = \"Ford\", model = \"Mustang\"))"
   ]
  },
  {
   "cell_type": "markdown",
   "id": "8c50b185",
   "metadata": {},
   "source": [
    "## String Methods"
   ]
  },
  {
   "cell_type": "code",
   "execution_count": 69,
   "id": "2f0cb449",
   "metadata": {
    "collapsed": true
   },
   "outputs": [
    {
     "name": "stdout",
     "output_type": "stream",
     "text": [
      "1: HELLO WORLD !!\n",
      "2: hello world !!\n",
      "3: Hello world !!\n",
      "4: Hello World !!\n",
      "5: hezzo worzd !!\n",
      "6: ['hello', 'world', '!!']\n",
      "7: 2\n",
      "8: 6\n"
     ]
    }
   ],
   "source": [
    "a = 'hello world !!'\n",
    "print(\"1:\",a.upper())          # Converts all characters in the string to uppercase\n",
    "print(\"2:\",a.lower())          # Converts all characters in the string to lowercase\n",
    "print(\"3:\"a.swapcase())        # Converts uppercase characters to lowercase and vice versa\n",
    "\n",
    "print(\"4:\",a.capitalize())     # Capitalizes the first character of the string\n",
    "print(\"5:\",a.title())          # Converts the first character of each word to uppercase\n",
    "\n",
    "print(\"6:\",a.replace(\"l\",\"z\")) # Replaces all occurrences of a substring with another substring\n",
    "print(\"7:\",a.split())          # Splits the string into a list of substrings based on a specified separator\n",
    "print(\"8:\",a.count(\"o\"))       # Returns the number of non-overlapping occurrences of the substring in the string"
   ]
  },
  {
   "cell_type": "code",
   "execution_count": null,
   "id": "6b8bcffb",
   "metadata": {},
   "outputs": [],
   "source": [
    "# str.islower() = Returns True if all characters in the string are lowercase.\n",
    "a1 = \"hello\"\n",
    "print(a1.islower()) \n",
    "a2 = \"Hello\"\n",
    "print(a2.islower())  \n",
    "\n",
    "# str.isupper() = Returns True if all characters in the string are uppercase.\n",
    "b1 = \"HELLO\"\n",
    "print(b1.isupper())  \n",
    "b2 = \"Hello\"\n",
    "print(b2.isupper())"
   ]
  },
  {
   "cell_type": "code",
   "execution_count": 82,
   "id": "ae4a48ec",
   "metadata": {
    "collapsed": true
   },
   "outputs": [
    {
     "name": "stdout",
     "output_type": "stream",
     "text": [
      "6\n",
      "6\n",
      "12\n",
      "12\n"
     ]
    }
   ],
   "source": [
    "a = \"hello world world\"\n",
    "\n",
    "# Returns the lowest index in the string where substring is found: \n",
    "print(a.find(\"w\")) # -1 if not found\n",
    "print(a.index(\"w\")) # Value error if not found\n",
    "\n",
    " # Returns the highest index in the string where substring is found, \n",
    "print(a.rfind(\"w\")) # -1 if not found\n",
    "print(a.rindex(\"w\"))  # # Value error if not found"
   ]
  },
  {
   "cell_type": "code",
   "execution_count": 71,
   "id": "c8e6b738",
   "metadata": {
    "collapsed": true
   },
   "outputs": [
    {
     "name": "stdout",
     "output_type": "stream",
     "text": [
      "False\n",
      "True\n"
     ]
    }
   ],
   "source": [
    "a = 'hello world !!'\n",
    "\n",
    "# str.startswith() = Returns True if the string starts with the specified prefix\n",
    "print(a.startswith(\"Hello\")) \n",
    "\n",
    "#str.endswith() = Returns True if the string ends with the specified suffix\n",
    "print(a.endswith(\"world !!\")) "
   ]
  },
  {
   "cell_type": "code",
   "execution_count": 57,
   "id": "30fa0caa",
   "metadata": {
    "collapsed": true
   },
   "outputs": [
    {
     "name": "stdout",
     "output_type": "stream",
     "text": [
      "True\n",
      "False\n"
     ]
    }
   ],
   "source": [
    "# str.isalpha() = Returns True if all characters in the string are alphabetic.\n",
    "a1 = \"hello\"\n",
    "print(a1.isalpha())  \n",
    "\n",
    "a2 = \"hello123\"\n",
    "print(a2.isalpha()) "
   ]
  },
  {
   "cell_type": "code",
   "execution_count": 65,
   "id": "73c45b81",
   "metadata": {
    "collapsed": true
   },
   "outputs": [
    {
     "name": "stdout",
     "output_type": "stream",
     "text": [
      "True\n",
      "False\n",
      "True\n",
      "True\n"
     ]
    }
   ],
   "source": [
    "# str.isdigit() = Returns True if all characters in the string are digits (0-9, subscript, superscript)\n",
    "a1 = \"12345\"\n",
    "print(a1.isdigit())  \n",
    "a2 = \"123abc\"\n",
    "print(a2.isdigit())  \n",
    "\n",
    "# str.isdecimal() = Returns True if all characters in the string are decimal characters (not subscript and superscript)\n",
    "b1 = \"12345\"\n",
    "print(b1.isdecimal())  \n",
    "\n",
    "# str.isnumeric() = This includes digits and characters that are considered numeric, like fractions, \n",
    "# superscripts, and other numeral symbols.\n",
    "c1 = '123456'\n",
    "print(c1.isnumeric())  "
   ]
  },
  {
   "cell_type": "code",
   "execution_count": 59,
   "id": "3b426906",
   "metadata": {
    "collapsed": true
   },
   "outputs": [
    {
     "name": "stdout",
     "output_type": "stream",
     "text": [
      "True\n",
      "False\n"
     ]
    }
   ],
   "source": [
    "# str.isalnum() = Returns True if all characters in the string are alphanumeric.\n",
    "a1 = \"hello123\"\n",
    "print(a1.isalnum())  \n",
    "\n",
    "a2 = \"hello 123\"\n",
    "print(a2.isalnum())  "
   ]
  },
  {
   "cell_type": "code",
   "execution_count": 62,
   "id": "cd3cdf3b",
   "metadata": {
    "collapsed": true
   },
   "outputs": [
    {
     "name": "stdout",
     "output_type": "stream",
     "text": [
      "True\n",
      "False\n"
     ]
    }
   ],
   "source": [
    "# str.isascii() = Returns True if all characters in the string are ASCII characters (0-127)\n",
    "a1 = \"hello\"\n",
    "print(a1.isascii())  \n",
    "\n",
    "a2 = \"hello 😊\"\n",
    "print(a2.isascii())  "
   ]
  },
  {
   "cell_type": "code",
   "execution_count": 53,
   "id": "7fb47392",
   "metadata": {
    "collapsed": true
   },
   "outputs": [
    {
     "name": "stdout",
     "output_type": "stream",
     "text": [
      "True\n",
      "False\n"
     ]
    }
   ],
   "source": [
    "a1 = \"variable_name\"\n",
    "print(a1.isidentifier()) \n",
    "\n",
    "a2 = \"variable-name\"\n",
    "print(a2.isidentifier())"
   ]
  },
  {
   "cell_type": "code",
   "execution_count": 67,
   "id": "1a48f11c",
   "metadata": {
    "collapsed": true
   },
   "outputs": [
    {
     "name": "stdout",
     "output_type": "stream",
     "text": [
      "True\n",
      "False\n"
     ]
    }
   ],
   "source": [
    "a1 = \"hello world\"\n",
    "print(a1.isprintable())  \n",
    "\n",
    "a2 = \"hello\\nworld\"\n",
    "print(a2.isprintable()) "
   ]
  },
  {
   "cell_type": "code",
   "execution_count": 43,
   "id": "4c04d522",
   "metadata": {
    "collapsed": true
   },
   "outputs": [
    {
     "name": "stdout",
     "output_type": "stream",
     "text": [
      "Hello World!!\n",
      "hello world\n",
      "hello world\n"
     ]
    }
   ],
   "source": [
    "s1 = '  Hello World!!   '\n",
    "print(s1.strip()) # Removes leading and trailing whitespace characters\n",
    " \n",
    "s2 = \"  hello world\"\n",
    "print(s2.lstrip())  # Removes leading whitespace characters\n",
    "\n",
    "s3 = \"hello world  \"\n",
    "print(s3.rstrip())  # Removes trailing whitespace characters"
   ]
  },
  {
   "cell_type": "code",
   "execution_count": 89,
   "id": "0b07b97a",
   "metadata": {
    "collapsed": true
   },
   "outputs": [
    {
     "name": "stdout",
     "output_type": "stream",
     "text": [
      "hello*****\n",
      "*****hello\n",
      "**hello***\n"
     ]
    }
   ],
   "source": [
    "a = \"hello\"\n",
    "print(a.ljust(10, '*'))  # Left-justifies the string of a given width, using fillchar for padding.\n",
    "print(a.rjust(10, '*'))  # Right-justifies the string of a given width, using fillchar for padding.\n",
    "print(a.center(10, '*')) # Centers the string of a given width, using fillchar as the padding character"
   ]
  },
  {
   "cell_type": "code",
   "execution_count": 23,
   "id": "4228c4e5",
   "metadata": {
    "collapsed": true
   },
   "outputs": [
    {
     "name": "stdout",
     "output_type": "stream",
     "text": [
      "hello world\n",
      "hellobeautifulworld\n"
     ]
    }
   ],
   "source": [
    "# Join() - Joins elements of an iterable (list) into a single string with the string as a separator\n",
    "j1 = ['hello', 'world']\n",
    "j2 = 'beautiful'\n",
    "print(\" \".join(j1))  \n",
    "print(j2.join(j1)) "
   ]
  },
  {
   "cell_type": "markdown",
   "id": "5a310df6",
   "metadata": {
    "collapsed": true
   },
   "source": [
    "## Additional String Methods"
   ]
  },
  {
   "cell_type": "code",
   "execution_count": 72,
   "id": "fd5a327d",
   "metadata": {
    "collapsed": true
   },
   "outputs": [
    {
     "name": "stdout",
     "output_type": "stream",
     "text": [
      "b'hello'\n"
     ]
    }
   ],
   "source": [
    "# str.encode() = Encodes the string using the specified encoding and error handling scheme\n",
    "a = \"hello\"\n",
    "print(a.encode('utf-8'))"
   ]
  },
  {
   "cell_type": "code",
   "execution_count": 74,
   "id": "9d7cef74",
   "metadata": {
    "collapsed": true
   },
   "outputs": [
    {
     "name": "stdout",
     "output_type": "stream",
     "text": [
      "hello     world\n"
     ]
    }
   ],
   "source": [
    "# str.expandtabs(tabsize) = Replaces all tab characters in the string with spaces\n",
    "a = \"hello\\tworld\"\n",
    "print(a.expandtabs(10))  "
   ]
  },
  {
   "cell_type": "code",
   "execution_count": 83,
   "id": "0ac5f922",
   "metadata": {
    "collapsed": true
   },
   "outputs": [
    {
     "name": "stdout",
     "output_type": "stream",
     "text": [
      "Hook\n",
      "Test\n"
     ]
    }
   ],
   "source": [
    "a = \"TestHook\"\n",
    "print(a.removeprefix(\"Test\"))  \n",
    "print(a.removesuffix(\"Hook\"))"
   ]
  },
  {
   "cell_type": "code",
   "execution_count": 88,
   "id": "4c4e8edb",
   "metadata": {
    "collapsed": true
   },
   "outputs": [
    {
     "name": "stdout",
     "output_type": "stream",
     "text": [
      "False\n",
      "True\n"
     ]
    }
   ],
   "source": [
    "# str.casefold() = Returns a casefolded version of the string, which is suitable for case-insensitive comparisons\n",
    "a = \"HELLO World\"\n",
    "b = \"hello world\"\n",
    "print(a == b)\n",
    "print(a.casefold() == b) "
   ]
  }
 ],
 "metadata": {
  "kernelspec": {
   "display_name": "Python 3 (ipykernel)",
   "language": "python",
   "name": "python3"
  },
  "language_info": {
   "codemirror_mode": {
    "name": "ipython",
    "version": 3
   },
   "file_extension": ".py",
   "mimetype": "text/x-python",
   "name": "python",
   "nbconvert_exporter": "python",
   "pygments_lexer": "ipython3",
   "version": "3.9.13"
  }
 },
 "nbformat": 4,
 "nbformat_minor": 5
}
