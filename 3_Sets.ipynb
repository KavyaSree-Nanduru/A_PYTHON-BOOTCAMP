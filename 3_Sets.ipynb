{
 "cells": [
  {
   "cell_type": "markdown",
   "id": "a237132d",
   "metadata": {},
   "source": [
    "### Built-in datatypes in Python\n",
    "There are four built-in datatypes in Python to represent collection of data. They are:<br>\n",
    "List - Ordered and Changeable. Allows duplicates. Represented in []<br>\n",
    "Tuple - Ordered and Unchangeable. Allows duplicates. Represented in ()<br>\n",
    "Set - Unordered, Unchangeable*, and unindexed. No duplicates. Represented in {}<br>\n",
    "Dictionary - Ordered(from python 3.7) and changeable. No duplicates. Represented in {}<br>"
   ]
  },
  {
   "cell_type": "markdown",
   "id": "bdc50fe2",
   "metadata": {},
   "source": [
    "## SETS"
   ]
  },
  {
   "cell_type": "code",
   "execution_count": 1,
   "id": "4496644f",
   "metadata": {
    "collapsed": true
   },
   "outputs": [
    {
     "name": "stdout",
     "output_type": "stream",
     "text": [
      "<class 'set'>\n",
      "Set a: {1, 2, 3, 4, 5}\n"
     ]
    }
   ],
   "source": [
    "# REPRESENTATION OF A SET\n",
    "a = {1,2,3,4,5}\n",
    "print(type(a))\n",
    "print(\"Set a:\",a)"
   ]
  },
  {
   "cell_type": "code",
   "execution_count": null,
   "id": "2d89ec04",
   "metadata": {},
   "outputs": [],
   "source": [
    "# Double round-brackets represent a set\n",
    "a = set((\"apple\", \"banana\", \"cherry\")) \n",
    "print(\"Set a:\",a)\n",
    "print(type(a))"
   ]
  },
  {
   "cell_type": "code",
   "execution_count": null,
   "id": "89e7f922",
   "metadata": {},
   "outputs": [],
   "source": [
    "# NO DUPLICATES\n",
    "a = {1,2,2,3,4,5,5,6,7,8}\n",
    "print(\"Set a:\",a)"
   ]
  },
  {
   "cell_type": "code",
   "execution_count": null,
   "id": "46ec81ab",
   "metadata": {},
   "outputs": [],
   "source": [
    "# LENGTH OF THE SET\n",
    "a = {1,2,3,4,5}\n",
    "print(\"Length of the set a is:\",len(a))"
   ]
  },
  {
   "cell_type": "code",
   "execution_count": 9,
   "id": "8826100b",
   "metadata": {
    "collapsed": true
   },
   "outputs": [
    {
     "name": "stdout",
     "output_type": "stream",
     "text": [
      "cherry\n",
      "apple\n",
      "banana\n"
     ]
    }
   ],
   "source": [
    "# ACCESSING SET ITEMS\n",
    "a = {\"apple\", \"banana\", \"cherry\"}\n",
    "\n",
    "for x in a:\n",
    "  print(x)"
   ]
  },
  {
   "cell_type": "code",
   "execution_count": 10,
   "id": "6bdf1aef",
   "metadata": {
    "collapsed": true
   },
   "outputs": [
    {
     "name": "stdout",
     "output_type": "stream",
     "text": [
      "True\n"
     ]
    }
   ],
   "source": [
    "# Checking if particular element is present or not\n",
    "a = {\"apple\", \"banana\", \"cherry\"}\n",
    "print(\"banana\" in a)"
   ]
  },
  {
   "cell_type": "code",
   "execution_count": 22,
   "id": "8c546dbf",
   "metadata": {
    "collapsed": true
   },
   "outputs": [
    {
     "name": "stdout",
     "output_type": "stream",
     "text": [
      "Set a after adding: {1, 2, 3, 4, 5, 6, 7, 8, 9}\n"
     ]
    }
   ],
   "source": [
    "# ADDITION OF NEW ITEMS TO SET\n",
    "# add() - adds only one element\n",
    "\n",
    "a = {1,2,3,4,5,6,7,8}\n",
    "a.add(9)\n",
    "print(\"Set a after adding:\",a)"
   ]
  },
  {
   "cell_type": "code",
   "execution_count": 23,
   "id": "1fa3cf06",
   "metadata": {
    "collapsed": true
   },
   "outputs": [
    {
     "name": "stdout",
     "output_type": "stream",
     "text": [
      "Set a after updating: {'papaya', 'pineapple', 'cherry', 'mango', 'apple', 'banana'}\n",
      "Set b is: {'papaya', 'mango', 'pineapple'}\n"
     ]
    }
   ],
   "source": [
    "# ADDITION OF NEW ITEMS USING \"update\" METHOD\n",
    "a = {\"apple\", \"banana\", \"cherry\"}\n",
    "b = {\"pineapple\", \"mango\", \"papaya\"}\n",
    "\n",
    "a.update(b)\n",
    "\n",
    "print(\"Set a after updating:\",a)\n",
    "print(\"Set b is:\", b)"
   ]
  },
  {
   "cell_type": "code",
   "execution_count": 2,
   "id": "e1cd8fce",
   "metadata": {},
   "outputs": [
    {
     "name": "stdout",
     "output_type": "stream",
     "text": [
      "Set a after updating: {'orange', 'kiwi', 'apple', 'banana', 'cherry'}\n",
      "Set b is: ['kiwi', 'orange']\n"
     ]
    }
   ],
   "source": [
    "# update method takes any datatype - list, tuple, dictionary\n",
    "a = {\"apple\", \"banana\", \"cherry\"}\n",
    "b = [\"kiwi\", \"orange\"]\n",
    "\n",
    "a.update(b)\n",
    "\n",
    "print(\"Set a after updating:\",a)\n",
    "print(\"Set b is:\", b)"
   ]
  },
  {
   "cell_type": "code",
   "execution_count": 1,
   "id": "0200fa32",
   "metadata": {
    "collapsed": true
   },
   "outputs": [
    {
     "name": "stdout",
     "output_type": "stream",
     "text": [
      "Set a after removing: {2, 3, 4, 5}\n"
     ]
    }
   ],
   "source": [
    "# REMOVING ITEMS FROM SET \n",
    "# remove() - removes only one element\n",
    "# throws error if the element in remove() is not present in the set\n",
    "\n",
    "a = {1,2,3,4,5}\n",
    "a.remove(1)\n",
    "# a.remove(7)\n",
    "print(\"Set a after removing:\",a)"
   ]
  },
  {
   "cell_type": "code",
   "execution_count": 31,
   "id": "49023dea",
   "metadata": {
    "collapsed": true
   },
   "outputs": [
    {
     "name": "stdout",
     "output_type": "stream",
     "text": [
      "Set a after removing: {1, 3, 4, 5}\n"
     ]
    }
   ],
   "source": [
    "# REMOVING ITEMS FROM SET \n",
    "# discard() - removes only one element\n",
    "# does not throw error if the element in discard() is not present in the set\n",
    "\n",
    "a = {1,2,3,4,5}\n",
    "a.discard(2)\n",
    "a.discard(7)\n",
    "print(\"Set a after removing:\",a)"
   ]
  },
  {
   "cell_type": "code",
   "execution_count": 36,
   "id": "332c9f6e",
   "metadata": {
    "collapsed": true
   },
   "outputs": [
    {
     "name": "stdout",
     "output_type": "stream",
     "text": [
      "{2, 3, 4, 5, 6, 7}\n"
     ]
    }
   ],
   "source": [
    "# Using pop() element is removed randomly\n",
    "a = {1,2,3,4,5,6,7}\n",
    "a.pop()\n",
    "print(\"Set a after popping:\",a)"
   ]
  },
  {
   "cell_type": "code",
   "execution_count": 37,
   "id": "07c26b3e",
   "metadata": {
    "collapsed": true
   },
   "outputs": [
    {
     "name": "stdout",
     "output_type": "stream",
     "text": [
      "set()\n"
     ]
    }
   ],
   "source": [
    "# clear() set\n",
    "a = {1,2,3,4,5}\n",
    "a.clear()\n",
    "print(a)"
   ]
  },
  {
   "cell_type": "code",
   "execution_count": 4,
   "id": "b0369bfc",
   "metadata": {
    "collapsed": true
   },
   "outputs": [
    {
     "ename": "NameError",
     "evalue": "name 'a' is not defined",
     "output_type": "error",
     "traceback": [
      "\u001b[1;31m---------------------------------------------------------------------------\u001b[0m",
      "\u001b[1;31mNameError\u001b[0m                                 Traceback (most recent call last)",
      "\u001b[1;32m~\\AppData\\Local\\Temp\\ipykernel_1940\\840719527.py\u001b[0m in \u001b[0;36m<module>\u001b[1;34m\u001b[0m\n\u001b[0;32m      2\u001b[0m \u001b[0ma\u001b[0m \u001b[1;33m=\u001b[0m \u001b[1;33m{\u001b[0m\u001b[1;36m1\u001b[0m\u001b[1;33m,\u001b[0m\u001b[1;36m2\u001b[0m\u001b[1;33m,\u001b[0m\u001b[1;36m3\u001b[0m\u001b[1;33m,\u001b[0m\u001b[1;36m4\u001b[0m\u001b[1;33m,\u001b[0m\u001b[1;36m5\u001b[0m\u001b[1;33m}\u001b[0m\u001b[1;33m\u001b[0m\u001b[1;33m\u001b[0m\u001b[0m\n\u001b[0;32m      3\u001b[0m \u001b[1;32mdel\u001b[0m \u001b[0ma\u001b[0m\u001b[1;33m\u001b[0m\u001b[1;33m\u001b[0m\u001b[0m\n\u001b[1;32m----> 4\u001b[1;33m \u001b[0mprint\u001b[0m\u001b[1;33m(\u001b[0m\u001b[0ma\u001b[0m\u001b[1;33m)\u001b[0m\u001b[1;33m\u001b[0m\u001b[1;33m\u001b[0m\u001b[0m\n\u001b[0m",
      "\u001b[1;31mNameError\u001b[0m: name 'a' is not defined"
     ]
    }
   ],
   "source": [
    "# del - throws error after deleting\n",
    "a = {1,2,3,4,5}\n",
    "del a\n",
    "print(a)"
   ]
  },
  {
   "cell_type": "markdown",
   "id": "5bbf580c",
   "metadata": {},
   "source": [
    "### Joining sets"
   ]
  },
  {
   "cell_type": "code",
   "execution_count": 5,
   "id": "0593c7d2",
   "metadata": {
    "collapsed": true
   },
   "outputs": [
    {
     "name": "stdout",
     "output_type": "stream",
     "text": [
      "Union of x and y is: {'banana', 'microsoft', 'cherry', 'google', 'apple'}\n",
      "Intersection of x and y is: {'apple'}\n",
      "Symmetric difference of x and y is: {'google', 'banana', 'microsoft', 'cherry'}\n"
     ]
    }
   ],
   "source": [
    "# union() - returns new set\n",
    "# intersection() - returns new set with common elements\n",
    "# symmetric_difference() - removes common elements and returns new set\n",
    "\n",
    "x = {\"apple\", \"banana\", \"cherry\"}\n",
    "y = {\"google\", \"microsoft\", \"apple\"}\n",
    "\n",
    "a = x.union(y)\n",
    "b = x.intersection(y)\n",
    "c = x.symmetric_difference(y)\n",
    "\n",
    "print(\"Union of x and y is:\",a)\n",
    "print(\"Intersection of x and y is:\",b)\n",
    "print(\"Symmetric difference of x and y is:\",c)\n"
   ]
  },
  {
   "cell_type": "code",
   "execution_count": 12,
   "id": "37421189",
   "metadata": {
    "collapsed": true
   },
   "outputs": [
    {
     "name": "stdout",
     "output_type": "stream",
     "text": [
      "{'banana', 'microsoft', 'cherry', 'google', 'apple'}\n"
     ]
    }
   ],
   "source": [
    "# update() - adds set2 to set1\n",
    "\n",
    "x = {\"apple\", \"banana\", \"cherry\"}\n",
    "y = {\"google\", \"microsoft\", \"apple\"}\n",
    "\n",
    "x.update(y)\n",
    "print(x)"
   ]
  },
  {
   "cell_type": "code",
   "execution_count": 11,
   "id": "afab6242",
   "metadata": {
    "collapsed": true
   },
   "outputs": [
    {
     "name": "stdout",
     "output_type": "stream",
     "text": [
      "{'apple'}\n"
     ]
    }
   ],
   "source": [
    "# intersection_update() - returns common elements in both sets\n",
    "\n",
    "x = {\"apple\", \"banana\", \"cherry\"}\n",
    "y = {\"google\", \"microsoft\", \"apple\"}\n",
    "\n",
    "x.intersection_update(y)\n",
    "print(x)"
   ]
  },
  {
   "cell_type": "code",
   "execution_count": 10,
   "id": "f5673af0",
   "metadata": {
    "collapsed": true
   },
   "outputs": [
    {
     "name": "stdout",
     "output_type": "stream",
     "text": [
      "{'google', 'banana', 'microsoft', 'cherry'}\n"
     ]
    }
   ],
   "source": [
    "# symmetric_difference_update() - removes the common elements\n",
    "\n",
    "x = {\"apple\", \"banana\", \"cherry\"}\n",
    "y = {\"google\", \"microsoft\", \"apple\"}\n",
    "\n",
    "x.symmetric_difference_update(y)\n",
    "print(x)"
   ]
  },
  {
   "cell_type": "markdown",
   "id": "d5d35f68",
   "metadata": {},
   "source": [
    "### Other Functions"
   ]
  },
  {
   "cell_type": "code",
   "execution_count": 1,
   "id": "7d2a8c9b",
   "metadata": {
    "collapsed": true
   },
   "outputs": [
    {
     "name": "stdout",
     "output_type": "stream",
     "text": [
      "{1, 2, 3, 4, 5}\n"
     ]
    }
   ],
   "source": [
    "set1 = {1,2,3,4,5}\n",
    "set2 = set1.copy()\n",
    "print(set2)"
   ]
  },
  {
   "cell_type": "code",
   "execution_count": 2,
   "id": "a1c1fdc4",
   "metadata": {
    "collapsed": true
   },
   "outputs": [
    {
     "name": "stdout",
     "output_type": "stream",
     "text": [
      "{4, 5}\n"
     ]
    }
   ],
   "source": [
    "set1 = {1,2,3,4,5}\n",
    "set2 = {1,2,3}\n",
    "set3 = set1.difference(set2)\n",
    "print(set3)"
   ]
  },
  {
   "cell_type": "code",
   "execution_count": 3,
   "id": "82988d1f",
   "metadata": {
    "collapsed": true
   },
   "outputs": [
    {
     "name": "stdout",
     "output_type": "stream",
     "text": [
      "{4, 5}\n"
     ]
    }
   ],
   "source": [
    "set1 = {1,2,3,4,5}\n",
    "set2 = {1,2,3}\n",
    "set1.difference_update(set2)\n",
    "print(set1)"
   ]
  },
  {
   "cell_type": "code",
   "execution_count": 7,
   "id": "0ff3668a",
   "metadata": {
    "collapsed": true
   },
   "outputs": [
    {
     "name": "stdout",
     "output_type": "stream",
     "text": [
      "False\n"
     ]
    }
   ],
   "source": [
    "set1 = {1,2,3,4,5}\n",
    "set2 = {1,2,3}\n",
    "a = set1.isdisjoint(set2)\n",
    "print(a)"
   ]
  },
  {
   "cell_type": "code",
   "execution_count": 8,
   "id": "a8c54ef1",
   "metadata": {
    "collapsed": true
   },
   "outputs": [
    {
     "name": "stdout",
     "output_type": "stream",
     "text": [
      "False\n"
     ]
    }
   ],
   "source": [
    "set1 = {1,2,3,4,5}\n",
    "set2 = {1,2,3}\n",
    "a = set1.issubset(set2)\n",
    "print(a)"
   ]
  },
  {
   "cell_type": "code",
   "execution_count": 9,
   "id": "1e971834",
   "metadata": {
    "collapsed": true
   },
   "outputs": [
    {
     "name": "stdout",
     "output_type": "stream",
     "text": [
      "True\n"
     ]
    }
   ],
   "source": [
    "set1 = {1,2,3,4,5}\n",
    "set2 = {1,2,3}\n",
    "a = set1.issuperset(set2)\n",
    "print(a)"
   ]
  },
  {
   "cell_type": "markdown",
   "id": "b30cba7a",
   "metadata": {},
   "source": [
    "## SET METHODS"
   ]
  },
  {
   "cell_type": "markdown",
   "id": "714670e4",
   "metadata": {},
   "source": [
    "Let a,b,c be three sets.<br>\n",
    "type(a) - type <set>.<br>\n",
    "len(a) - Length of the set.<br>\n",
    "a.add(element) - Adds an element to set.<br>\n",
    "a.update(b) - Adds new set to existing set.<br>\n",
    "a.update(list_name) - Adds list to set.<br>\n",
    "a.remove(element) - Removes element, gives error if element is not present.<br>\n",
    "a.discard(element) - Removes element, does not give error if element is not present.<br>\n",
    "a.pop() - Element is removed randomly.<br>\n",
    "a.clear() - Clears the set.<br>\n",
    "del a - Deletes the set.<br>\n",
    "c = a.union(b) - Union of a and b, returns new set.<br>\n",
    "a.update(b) - Union of a and b, does not return new set.<br>\n",
    "a.intersection_update(b) - returns common elements in both sets.<br>\n",
    "c = a.intersection(b) - returns new set with common elements.<br>\n",
    "a.symmetric_difference_update(b) - removes the common elements.<br>\n",
    "c = a.symmetric_difference(b) - removes common elements and returns new set.<br>\n",
    "b = a.copy() - copies a to b.<br>\n",
    "c = a.difference(b) - a-b, returns new set.<br>\n",
    "a.difference_update(b) - a-b, does not return new set.<br>\n",
    "x = a.isdisjoint(b) - checks if a,b are disjoint.<br>\n",
    "x = a.issubset(b) - checks if a is subset of b.<br>\n",
    "x = a.issuperset(b) - checks if a is superset of b.<br>"
   ]
  },
  {
   "cell_type": "code",
   "execution_count": null,
   "id": "86b0b762",
   "metadata": {},
   "outputs": [],
   "source": []
  }
 ],
 "metadata": {
  "kernelspec": {
   "display_name": "Python 3 (ipykernel)",
   "language": "python",
   "name": "python3"
  },
  "language_info": {
   "codemirror_mode": {
    "name": "ipython",
    "version": 3
   },
   "file_extension": ".py",
   "mimetype": "text/x-python",
   "name": "python",
   "nbconvert_exporter": "python",
   "pygments_lexer": "ipython3",
   "version": "3.9.13"
  }
 },
 "nbformat": 4,
 "nbformat_minor": 5
}
