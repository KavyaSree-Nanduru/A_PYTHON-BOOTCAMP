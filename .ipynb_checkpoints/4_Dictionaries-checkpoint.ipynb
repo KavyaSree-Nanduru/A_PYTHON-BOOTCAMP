{
 "cells": [
  {
   "cell_type": "markdown",
   "id": "3c8f6587",
   "metadata": {},
   "source": [
    "### Built-in datatypes in Python\n",
    "There are four built-in datatypes in Python to represent collection of data. They are:<br>\n",
    "List - Ordered and Changeable. Allows duplicates. Represented in []<br>\n",
    "Tuple - Ordered and Unchangeable. Allows duplicates. Represented in ()<br>\n",
    "Set - Unordered, Unchangeable*, and unindexed. No duplicates. Represented in {}<br>\n",
    "Dictionary - Ordered(from python 3.7) and changeable. No duplicates. Represented in {}<br>"
   ]
  },
  {
   "cell_type": "markdown",
   "id": "bf5910d8",
   "metadata": {},
   "source": [
    "## DICTIONARY"
   ]
  },
  {
   "cell_type": "code",
   "execution_count": 3,
   "id": "eb4a4607",
   "metadata": {
    "scrolled": true
   },
   "outputs": [
    {
     "name": "stdout",
     "output_type": "stream",
     "text": [
      "Dictionary a is: {'brand': 'Ford', 'model': 'Mustang', 'year': 1964}\n",
      "Type of a is: <class 'dict'>\n",
      "Length of a is: 3\n"
     ]
    }
   ],
   "source": [
    "# REPRESENTATION OF A DICTIONARY\n",
    "a = {\"brand\": \"Ford\",\"model\": \"Mustang\",\"year\": 1964}\n",
    "print(\"Dictionary a is:\",a)\n",
    "print(\"Type of a is:\",type(a))\n",
    "print(\"Length of a is:\",len(a))"
   ]
  },
  {
   "cell_type": "code",
   "execution_count": 8,
   "id": "80451015",
   "metadata": {},
   "outputs": [
    {
     "name": "stdout",
     "output_type": "stream",
     "text": [
      "{'name': 'John', 'age': 36, 'country': 'Norway'}\n"
     ]
    }
   ],
   "source": [
    "# OTHER WAY OF INITIALIZING A DICTIONARY\n",
    "a = dict(name = \"John\", age = 36, country = \"Norway\")\n",
    "print(\"Dictionary a is:\",a)"
   ]
  },
  {
   "cell_type": "code",
   "execution_count": 6,
   "id": "bf4c620c",
   "metadata": {
    "collapsed": true
   },
   "outputs": [
    {
     "name": "stdout",
     "output_type": "stream",
     "text": [
      "brand\n",
      "model\n",
      "year\n",
      "colors\n",
      "........................................\n",
      "Ford\n",
      "Mustang\n",
      "1999\n",
      "['red', 'blue', 'green']\n",
      "........................................\n",
      "brand Ford\n",
      "model Mustang\n",
      "year 1999\n",
      "colors ['red', 'blue', 'green']\n"
     ]
    }
   ],
   "source": [
    "# TRAVERSING THROUGH THE DICTIONARY\n",
    "a = {\"brand\": \"Ford\",\"model\": \"Mustang\",\"year\": 1964 ,\"year\":1999, \"colors\":['red','blue','green']}\n",
    "for x in a:\n",
    "    print(x) # PRINTS ALL KEYS\n",
    "print(\"........................................\")\n",
    "\n",
    "for x in a:\n",
    "    print(a[x]) # PRINTS ALL VALUES\n",
    "print(\"........................................\")\n",
    "\n",
    "for x in a:\n",
    "    print(x,a[x]) # PRINTS ALL KEY-VALUE PAIRS"
   ]
  },
  {
   "cell_type": "code",
   "execution_count": 9,
   "id": "1ee35b7a",
   "metadata": {
    "collapsed": true
   },
   "outputs": [
    {
     "name": "stdout",
     "output_type": "stream",
     "text": [
      "Ford\n",
      "1999\n",
      "['red', 'blue', 'green']\n",
      "Mustang\n"
     ]
    }
   ],
   "source": [
    "# ACCESSING PARTICULAR VALUES IN THE DICTIONARY\n",
    "a = {\"brand\": \"Ford\",\"model\": \"Mustang\",\"year\": 1964 ,\"year\":1999, \"colors\":['red','blue','green']}\n",
    "print(a['brand'])\n",
    "print(a['year'])\n",
    "print(a['colors'])"
   ]
  },
  {
   "cell_type": "code",
   "execution_count": 42,
   "id": "8a4695b1",
   "metadata": {},
   "outputs": [
    {
     "name": "stdout",
     "output_type": "stream",
     "text": [
      "Mustang\n"
     ]
    }
   ],
   "source": [
    "# a.get(key) - Gets the value of particular key\n",
    "a = {\"brand\": \"Ford\",\"model\": \"Mustang\",\"year\": 1964 ,\"year\":1999, \"colors\":['red','blue','green']}\n",
    "print(a.get(\"model\"))"
   ]
  },
  {
   "cell_type": "code",
   "execution_count": 22,
   "id": "0e7a7e3c",
   "metadata": {
    "collapsed": true
   },
   "outputs": [
    {
     "name": "stdout",
     "output_type": "stream",
     "text": [
      "Keys in the dictionary are: dict_keys(['brand', 'model', 'year', 'colors'])\n",
      "Values in the dictionary are: dict_values(['Ford', 'Mustang', 1999, ['red', 'blue', 'green']])\n",
      "Key-value pairs in the dictionary are: dict_items([('brand', 'Ford'), ('model', 'Mustang'), ('year', 1999), ('colors', ['red', 'blue', 'green'])])\n"
     ]
    }
   ],
   "source": [
    "# FUNCTIONS TO RETRIEVE ALL THE KEYS,VALUES,KEY-VALUE PAIRS\n",
    "a = {\"brand\": \"Ford\",\"model\": \"Mustang\",\"year\": 1964 ,\"year\":1999, \"colors\":['red','blue','green']}\n",
    "x = a.keys()\n",
    "y = a.values()\n",
    "z = a.items()\n",
    "\n",
    "print(\"Keys in the dictionary are:\",x)\n",
    "print(\"Values in the dictionary are:\",y)\n",
    "print(\"Key-value pairs in the dictionary are:\",z)"
   ]
  },
  {
   "cell_type": "code",
   "execution_count": 21,
   "id": "a5ab74f6",
   "metadata": {
    "collapsed": true
   },
   "outputs": [
    {
     "name": "stdout",
     "output_type": "stream",
     "text": [
      "Dictionary keys before change: dict_keys(['brand', 'model', 'year'])\n",
      "Dictionary values before change: dict_values(['Ford', 'Mustang', 1964])\n",
      "Dictionary key-value pairs before change: dict_items([('brand', 'Ford'), ('model', 'Mustang'), ('year', 1964)])\n",
      "Dictionary keys after change: dict_keys(['brand', 'model', 'year', 'colors'])\n",
      "Dictionary values after change: dict_values(['Ford', 'Mustang', 1999, ['red', 'blue', 'green']])\n",
      "Dictionary key-value pairs after change: dict_items([('brand', 'Ford'), ('model', 'Mustang'), ('year', 1999), ('colors', ['red', 'blue', 'green'])])\n"
     ]
    }
   ],
   "source": [
    "# CHANGING KEYS AND VALUES\n",
    "a = {\"brand\": \"Ford\",\"model\": \"Mustang\",\"year\": 1964}\n",
    "x = a.keys()\n",
    "y = a.values()\n",
    "z = a.items()\n",
    "\n",
    "print(\"Dictionary keys before change:\",x)\n",
    "print(\"Dictionary values before change:\",y)\n",
    "print(\"Dictionary key-value pairs before change:\",z)\n",
    "\n",
    "# Changing keys and values\n",
    "a[\"colors\"] = ['red','blue','green']\n",
    "a[\"year\"] = 1999\n",
    "\n",
    "print(\"Dictionary keys after change:\",x)\n",
    "print(\"Dictionary values after change:\",y)\n",
    "print(\"Dictionary key-value pairs after change:\",z)"
   ]
  },
  {
   "cell_type": "code",
   "execution_count": 2,
   "id": "d31a3668",
   "metadata": {
    "collapsed": true
   },
   "outputs": [
    {
     "name": "stdout",
     "output_type": "stream",
     "text": [
      "KEYS:\n",
      "brand\n",
      "model\n",
      "year\n",
      ".................\n",
      "VALUES\n",
      "Ford\n",
      "Mustang\n",
      "1964\n",
      ".................\n",
      "KEY-VALUE PAIRS\n",
      "brand Ford\n",
      "model Mustang\n",
      "year 1964\n",
      ".................\n"
     ]
    }
   ],
   "source": [
    "# FUNCTIONS TO RETRIEVE ALL THE KEYS,VALUES,KEY-VALUE PAIRS USING LOOPS\n",
    "a = {\"brand\": \"Ford\",\"model\": \"Mustang\",\"year\": 1964}\n",
    "\n",
    "print(\"KEYS:\")\n",
    "for x in a.keys():\n",
    "    print(x)\n",
    "print(\".................\")\n",
    "\n",
    "print(\"VALUES\")\n",
    "for x in a.values():\n",
    "    print(x)\n",
    "print(\".................\")\n",
    "\n",
    "print(\"KEY-VALUE PAIRS\")\n",
    "for x,y in a.items():\n",
    "    print(x,y)\n",
    "print(\".................\")"
   ]
  },
  {
   "cell_type": "code",
   "execution_count": 23,
   "id": "f19efa52",
   "metadata": {
    "collapsed": true
   },
   "outputs": [
    {
     "name": "stdout",
     "output_type": "stream",
     "text": [
      "YES\n"
     ]
    }
   ],
   "source": [
    "# CHECKING IF PARTICULAR KEY IS PRESENT\n",
    "a = {\"brand\": \"Ford\",\"model\": \"Mustang\",\"year\": 1964}\n",
    "if \"brand\" in a:\n",
    "    print(\"YES\")"
   ]
  },
  {
   "cell_type": "code",
   "execution_count": 27,
   "id": "681998c3",
   "metadata": {
    "collapsed": true
   },
   "outputs": [
    {
     "name": "stdout",
     "output_type": "stream",
     "text": [
      "Dictionary after update: {'brand': 'Ford', 'model': 'Mustang', 'year': 1999}\n"
     ]
    }
   ],
   "source": [
    "# a.update(key:value) - UPDATING KEY-VALUES\n",
    "a = {\"brand\": \"Ford\",\"model\": \"Mustang\",\"year\": 1964}\n",
    "a.update({\"year\": 1999})\n",
    "print(\"Dictionary after update:\",a)"
   ]
  },
  {
   "cell_type": "code",
   "execution_count": 30,
   "id": "97b3f592",
   "metadata": {
    "collapsed": true
   },
   "outputs": [
    {
     "name": "stdout",
     "output_type": "stream",
     "text": [
      "Dictionary after pop: {'brand': 'Ford', 'model': 'Mustang'}\n"
     ]
    }
   ],
   "source": [
    "# a.pop(key) - removes specific key\n",
    "a = {\"brand\": \"Ford\",\"model\": \"Mustang\",\"year\": 1964}\n",
    "a.pop(\"year\")\n",
    "print(\"Dictionary after pop:\",a)"
   ]
  },
  {
   "cell_type": "code",
   "execution_count": 32,
   "id": "ae9f8cb7",
   "metadata": {},
   "outputs": [
    {
     "name": "stdout",
     "output_type": "stream",
     "text": [
      "{'brand': 'Ford', 'model': 'Mustang', 'year': 1999}\n"
     ]
    }
   ],
   "source": [
    "# a.popitem() - removes last inserted item\n",
    "a = {\"brand\": \"Ford\",\"model\": \"Mustang\",\"year\": 1964 ,\"year\":1999, \"colors\":['red','blue','green']}\n",
    "a.popitem()\n",
    "print(a)"
   ]
  },
  {
   "cell_type": "code",
   "execution_count": 33,
   "id": "316428e7",
   "metadata": {},
   "outputs": [
    {
     "name": "stdout",
     "output_type": "stream",
     "text": [
      "Dictionary after deleting: {'model': 'Mustang', 'year': 1999, 'colors': ['red', 'blue', 'green']}\n"
     ]
    }
   ],
   "source": [
    "# del a[key] - deletes particular key:value pair\n",
    "a = {\"brand\": \"Ford\",\"model\": \"Mustang\",\"year\": 1964 ,\"year\":1999, \"colors\":['red','blue','green']}\n",
    "del a[\"brand\"]\n",
    "print(\"Dictionary after deleting:\",a)"
   ]
  },
  {
   "cell_type": "code",
   "execution_count": 35,
   "id": "2c5cb9c5",
   "metadata": {
    "collapsed": true
   },
   "outputs": [
    {
     "ename": "NameError",
     "evalue": "name 'a' is not defined",
     "output_type": "error",
     "traceback": [
      "\u001b[1;31m---------------------------------------------------------------------------\u001b[0m",
      "\u001b[1;31mNameError\u001b[0m                                 Traceback (most recent call last)",
      "\u001b[1;32m~\\AppData\\Local\\Temp\\ipykernel_16008\\2919038588.py\u001b[0m in \u001b[0;36m<module>\u001b[1;34m\u001b[0m\n\u001b[0;32m      1\u001b[0m \u001b[0ma\u001b[0m \u001b[1;33m=\u001b[0m \u001b[1;33m{\u001b[0m\u001b[1;34m\"brand\"\u001b[0m\u001b[1;33m:\u001b[0m \u001b[1;34m\"Ford\"\u001b[0m\u001b[1;33m,\u001b[0m\u001b[1;34m\"model\"\u001b[0m\u001b[1;33m:\u001b[0m \u001b[1;34m\"Mustang\"\u001b[0m\u001b[1;33m,\u001b[0m\u001b[1;34m\"year\"\u001b[0m\u001b[1;33m:\u001b[0m \u001b[1;36m1964\u001b[0m \u001b[1;33m,\u001b[0m\u001b[1;34m\"year\"\u001b[0m\u001b[1;33m:\u001b[0m\u001b[1;36m1999\u001b[0m\u001b[1;33m,\u001b[0m \u001b[1;34m\"colors\"\u001b[0m\u001b[1;33m:\u001b[0m\u001b[1;33m[\u001b[0m\u001b[1;34m'red'\u001b[0m\u001b[1;33m,\u001b[0m\u001b[1;34m'blue'\u001b[0m\u001b[1;33m,\u001b[0m\u001b[1;34m'green'\u001b[0m\u001b[1;33m]\u001b[0m\u001b[1;33m}\u001b[0m\u001b[1;33m\u001b[0m\u001b[1;33m\u001b[0m\u001b[0m\n\u001b[0;32m      2\u001b[0m \u001b[1;32mdel\u001b[0m \u001b[0ma\u001b[0m\u001b[1;33m\u001b[0m\u001b[1;33m\u001b[0m\u001b[0m\n\u001b[1;32m----> 3\u001b[1;33m \u001b[0mprint\u001b[0m\u001b[1;33m(\u001b[0m\u001b[0ma\u001b[0m\u001b[1;33m)\u001b[0m\u001b[1;33m\u001b[0m\u001b[1;33m\u001b[0m\u001b[0m\n\u001b[0m",
      "\u001b[1;31mNameError\u001b[0m: name 'a' is not defined"
     ]
    }
   ],
   "source": [
    "a = {\"brand\": \"Ford\",\"model\": \"Mustang\",\"year\": 1964 ,\"year\":1999, \"colors\":['red','blue','green']}\n",
    "del a\n",
    "print(a) #Generates error"
   ]
  },
  {
   "cell_type": "code",
   "execution_count": 36,
   "id": "7085da89",
   "metadata": {
    "collapsed": true
   },
   "outputs": [
    {
     "name": "stdout",
     "output_type": "stream",
     "text": [
      "{}\n"
     ]
    }
   ],
   "source": [
    "a = {\"brand\": \"Ford\",\"model\": \"Mustang\",\"year\": 1964 ,\"year\":1999, \"colors\":['red','blue','green']}\n",
    "a.clear()\n",
    "print(a)"
   ]
  },
  {
   "cell_type": "code",
   "execution_count": 47,
   "id": "e7abbfbb",
   "metadata": {
    "collapsed": true
   },
   "outputs": [
    {
     "name": "stdout",
     "output_type": "stream",
     "text": [
      "Dictionary b: {'brand': 'Ford', 'model': 'Mustang', 'year': 1999, 'colors': ['red', 'blue', 'green']}\n",
      "Dictionary c: {'brand': 'Ford', 'model': 'Mustang', 'year': 1999, 'colors': ['red', 'blue', 'green']}\n"
     ]
    }
   ],
   "source": [
    "# COPYING A DICTIONARY\n",
    "a = {\"brand\": \"Ford\",\"model\": \"Mustang\",\"year\": 1964 ,\"year\":1999, \"colors\":['red','blue','green']}\n",
    "b = a.copy()\n",
    "c = dict(a)\n",
    "print(\"Dictionary b:\",b)\n",
    "print(\"Dictionary c:\",c)"
   ]
  },
  {
   "cell_type": "code",
   "execution_count": 49,
   "id": "373c1cea",
   "metadata": {
    "collapsed": true
   },
   "outputs": [
    {
     "name": "stdout",
     "output_type": "stream",
     "text": [
      "Ford\n"
     ]
    }
   ],
   "source": [
    "# NESTED DICTIONARY\n",
    "cars = {\"a\" : {\"brand\" : \"Ford\",\"year\" : 2004}, \"b\" : {\"brand\" : \"Maruti\",\"year\" : 2007},\n",
    "          \"c\" : {\"brand\" :\"Tesla\",\"year\" : 2011}}\n",
    "print(cars[\"a\"][\"brand\"])"
   ]
  },
  {
   "cell_type": "code",
   "execution_count": 51,
   "id": "6e48dbfa",
   "metadata": {
    "collapsed": true
   },
   "outputs": [
    {
     "name": "stdout",
     "output_type": "stream",
     "text": [
      "Ford\n"
     ]
    }
   ],
   "source": [
    "# NESTED DICTIONARY\n",
    "a = {\"brand\": \"Ford\",\"model\": \"Mustang\",\"year\": 1964}\n",
    "b = {\"brand\": \"Maruti\",\"model\": \"Suzuki\",\"year\": 1999}\n",
    "c = {\"brand\": \"Tesla\",\"model\": \"Three\",\"year\": 2020}\n",
    "\n",
    "cars = {\"car1\" : a,\"car2\" : b,\"car3\" : c}\n",
    "print(cars[\"car1\"][\"brand\"])"
   ]
  },
  {
   "cell_type": "markdown",
   "id": "cef3e4be",
   "metadata": {},
   "source": [
    "### DICTIONARY METHODS"
   ]
  },
  {
   "cell_type": "markdown",
   "id": "e2e225d1",
   "metadata": {},
   "source": [
    "Let a and b be two dictionaries.<br>\n",
    "type(a) - type <dict>.<br>\n",
    "len(a) - length of dictionary.<br>\n",
    "a.keys() - prints all the keys.<br>\n",
    "a.values() - prints all the values.<br>\n",
    "a.items() - prints all the key-value pairs.<br>\n",
    "a.update(key:value) - UPDATING KEY-VALUES.<br>\n",
    "a.pop(key) - removes specific key.<br>\n",
    "a.popitem() - removes last inserted item.<br>\n",
    "del a[key] - deletes particular key:value pair.<br>\n",
    "del a - deletes entire dictionary.<br>\n",
    "a.clear() - clears dictionary.<br>\n",
    "b = a.copy() - copies dictionary a into b.<br>"
   ]
  },
  {
   "cell_type": "code",
   "execution_count": null,
   "id": "4ec0e125",
   "metadata": {},
   "outputs": [],
   "source": []
  }
 ],
 "metadata": {
  "kernelspec": {
   "display_name": "Python 3 (ipykernel)",
   "language": "python",
   "name": "python3"
  },
  "language_info": {
   "codemirror_mode": {
    "name": "ipython",
    "version": 3
   },
   "file_extension": ".py",
   "mimetype": "text/x-python",
   "name": "python",
   "nbconvert_exporter": "python",
   "pygments_lexer": "ipython3",
   "version": "3.9.13"
  }
 },
 "nbformat": 4,
 "nbformat_minor": 5
}
