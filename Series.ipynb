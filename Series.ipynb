{
 "cells": [
  {
   "cell_type": "code",
   "execution_count": 2,
   "id": "dd75fa30",
   "metadata": {},
   "outputs": [
    {
     "data": {
      "text/plain": [
       "6"
      ]
     },
     "execution_count": 2,
     "metadata": {},
     "output_type": "execute_result"
    }
   ],
   "source": [
    "3+3"
   ]
  },
  {
   "cell_type": "markdown",
   "id": "a6332dc7",
   "metadata": {},
   "source": [
    "## Datatypes"
   ]
  },
  {
   "cell_type": "code",
   "execution_count": 3,
   "id": "35271e1f",
   "metadata": {
    "collapsed": true
   },
   "outputs": [
    {
     "name": "stdout",
     "output_type": "stream",
     "text": [
      "<class 'int'>\n",
      "<class 'float'>\n",
      "<class 'str'>\n",
      "<class 'bool'>\n",
      "....................................\n",
      "<class 'list'>\n",
      "<class 'tuple'>\n",
      "<class 'dict'>\n",
      "<class 'set'>\n",
      "<class 'frozenset'>\n",
      "....................................\n",
      "<class 'range'>\n",
      "<class 'bytes'>\n",
      "<class 'bytearray'>\n",
      "<class 'NoneType'>\n"
     ]
    }
   ],
   "source": [
    "print(type(3))\n",
    "print(type(3.4))\n",
    "print(type('abc'))\n",
    "print(type(True))\n",
    "print('....................................')\n",
    "print(type([1,2,3]))\n",
    "print(type((1,2,3)))\n",
    "print(type({1:'apple',2:'banana'}))\n",
    "print(type({1,2,3}))\n",
    "print(type(frozenset({1, 2, 3})))\n",
    "print('....................................')\n",
    "print(type(range(0, 10, 2)))\n",
    "print(type(b'hello'))\n",
    "print(type(bytearray(b'hello')))\n",
    "print(type(None))"
   ]
  },
  {
   "cell_type": "markdown",
   "id": "bba51a20",
   "metadata": {},
   "source": [
    "## Operators"
   ]
  },
  {
   "cell_type": "code",
   "execution_count": 4,
   "id": "354b7078",
   "metadata": {
    "collapsed": true
   },
   "outputs": [
    {
     "name": "stdout",
     "output_type": "stream",
     "text": [
      "15\n",
      "6\n",
      "12\n",
      "5.0\n",
      "3\n",
      "1\n"
     ]
    }
   ],
   "source": [
    "# ARITHMETIC OPERATORS\n",
    "print(5 + 10) # Addition\n",
    "print(10-4) # Subtraction\n",
    "print(4*3) # Multiplication\n",
    "print(10/2) #Division\n",
    "print(10//3) #Quotient\n",
    "print(10%3) #Remainder"
   ]
  },
  {
   "cell_type": "code",
   "execution_count": 5,
   "id": "a3b8b1b9",
   "metadata": {
    "collapsed": true
   },
   "outputs": [
    {
     "name": "stdout",
     "output_type": "stream",
     "text": [
      "True\n",
      "False\n",
      "False\n",
      "False\n",
      "True\n"
     ]
    }
   ],
   "source": [
    "#LOGICAL OPERATORS\n",
    "print(3==3) # Equality \n",
    "print(3!=3) #Inequality\n",
    "print(5<=3) #Comparision\n",
    "print((5>3) and (1<0)) #AND Operator\n",
    "print((5>3) or (1<0)) #OR Operator"
   ]
  },
  {
   "cell_type": "code",
   "execution_count": 8,
   "id": "12678b47",
   "metadata": {
    "collapsed": true
   },
   "outputs": [
    {
     "name": "stdout",
     "output_type": "stream",
     "text": [
      "HelloWorld\n",
      "HelloHelloHello\n",
      "33\n"
     ]
    }
   ],
   "source": [
    "#CONCATENATION OPERATORS\n",
    "print(\"Hello\" + \"World\")\n",
    "print(\"Hello\" * 3)\n",
    "print(\"3\"+\"3\")"
   ]
  },
  {
   "cell_type": "markdown",
   "id": "cf495709",
   "metadata": {},
   "source": [
    "## Custom Functions"
   ]
  },
  {
   "cell_type": "code",
   "execution_count": 3,
   "id": "c1dde25e",
   "metadata": {
    "collapsed": true
   },
   "outputs": [
    {
     "name": "stdout",
     "output_type": "stream",
     "text": [
      "Celsius to Fahrenheit: 32.0\n",
      "Celsius to Fahrenheit: 33.8\n"
     ]
    }
   ],
   "source": [
    "def celsius_to_fah(celsius_temp):\n",
    "    a = celsius_temp * 1.8\n",
    "    return a + 32\n",
    "\n",
    "print(\"Celsius to Fahrenheit:\",celsius_to_fah(0))\n",
    "print(\"Celsius to Fahrenheit:\",celsius_to_fah(celsius_temp=1))"
   ]
  },
  {
   "cell_type": "code",
   "execution_count": 5,
   "id": "988f11cb",
   "metadata": {
    "collapsed": true
   },
   "outputs": [
    {
     "name": "stdout",
     "output_type": "stream",
     "text": [
      "Celsius to Fahrenheit: 86.0\n",
      "Celsius to Fahrenheit: 33.8\n",
      "Celsius to Fahrenheit: 32.0\n"
     ]
    }
   ],
   "source": [
    "def celsius_to_fah(celsius_temp = 0): #This is a fall back value if we forget to give an argument\n",
    "    a = celsius_temp * 1.8\n",
    "    return a + 32\n",
    "\n",
    "print(\"Celsius to Fahrenheit:\",celsius_to_fah(30))\n",
    "print(\"Celsius to Fahrenheit:\",celsius_to_fah(celsius_temp=1))\n",
    "print(\"Celsius to Fahrenheit:\",celsius_to_fah())"
   ]
  },
  {
   "cell_type": "markdown",
   "id": "543dec8e",
   "metadata": {},
   "source": [
    "## Series"
   ]
  },
  {
   "cell_type": "code",
   "execution_count": 1,
   "id": "8ab36cf6",
   "metadata": {},
   "outputs": [],
   "source": [
    "import pandas as pd"
   ]
  },
  {
   "cell_type": "code",
   "execution_count": 2,
   "id": "1da2478c",
   "metadata": {},
   "outputs": [],
   "source": [
    "# Default index starts from zero\n",
    "ice_cream = [\"Chocolate\",\"Vanilla\",\"Strawberry\",\"Raisin\"]\n",
    "pd.Series(ice_cream)"
   ]
  },
  {
   "cell_type": "code",
   "execution_count": 5,
   "id": "197faa98",
   "metadata": {
    "collapsed": true
   },
   "outputs": [
    {
     "data": {
      "text/plain": [
       "0    1\n",
       "1    3\n",
       "2    7\n",
       "3    4\n",
       "4    8\n",
       "dtype: int64"
      ]
     },
     "execution_count": 5,
     "metadata": {},
     "output_type": "execute_result"
    }
   ],
   "source": [
    "# Default index starts from zero\n",
    "lottery = [1,3,7,4,8]\n",
    "pd.Series(lottery)"
   ]
  },
  {
   "cell_type": "code",
   "execution_count": 6,
   "id": "7c38eee1",
   "metadata": {
    "collapsed": true
   },
   "outputs": [
    {
     "data": {
      "text/plain": [
       "0     True\n",
       "1    False\n",
       "2    False\n",
       "3     True\n",
       "dtype: bool"
      ]
     },
     "execution_count": 6,
     "metadata": {},
     "output_type": "execute_result"
    }
   ],
   "source": [
    "# Default index starts from zero\n",
    "registration = [True,False,False,True]\n",
    "pd.Series(registration)"
   ]
  },
  {
   "cell_type": "code",
   "execution_count": 8,
   "id": "7acde6d3",
   "metadata": {
    "collapsed": true
   },
   "outputs": [
    {
     "data": {
      "text/plain": [
       "Salmon    Orange\n",
       "Tuna         Red\n",
       "Eel        Browm\n",
       "dtype: object"
      ]
     },
     "execution_count": 8,
     "metadata": {},
     "output_type": "execute_result"
    }
   ],
   "source": [
    "# Index is taken from the dictionary keys\n",
    "sushi = {\"Salmon\":\"Orange\" , \"Tuna\":\"Red\" , \"Eel\":\"Browm\"}\n",
    "pd.Series(sushi)"
   ]
  },
  {
   "cell_type": "code",
   "execution_count": 9,
   "id": "03580550",
   "metadata": {
    "collapsed": true
   },
   "outputs": [
    {
     "data": {
      "text/plain": [
       "90"
      ]
     },
     "execution_count": 9,
     "metadata": {},
     "output_type": "execute_result"
    }
   ],
   "source": [
    "# Series Methods\n",
    "prices = pd.Series([1,5,3,6])\n",
    "prices.product()"
   ]
  },
  {
   "cell_type": "markdown",
   "id": "266ed9c9",
   "metadata": {},
   "source": [
    "## Attributes"
   ]
  },
  {
   "cell_type": "code",
   "execution_count": 10,
   "id": "103e60b3",
   "metadata": {
    "collapsed": true
   },
   "outputs": [
    {
     "data": {
      "text/plain": [
       "0       Smart\n",
       "1    Handsome\n",
       "2    Charming\n",
       "3      Humble\n",
       "4       Smart\n",
       "dtype: object"
      ]
     },
     "execution_count": 10,
     "metadata": {},
     "output_type": "execute_result"
    }
   ],
   "source": [
    "adjectives = pd.Series([\"Smart\",\"Handsome\",\"Charming\",\"Humble\",\"Smart\"])\n",
    "adjectives"
   ]
  },
  {
   "cell_type": "code",
   "execution_count": 14,
   "id": "e8d69ebd",
   "metadata": {
    "collapsed": true
   },
   "outputs": [
    {
     "data": {
      "text/plain": [
       "int"
      ]
     },
     "execution_count": 14,
     "metadata": {},
     "output_type": "execute_result"
    }
   ],
   "source": [
    "adjectives.size"
   ]
  },
  {
   "cell_type": "code",
   "execution_count": 15,
   "id": "8bb2dcad",
   "metadata": {
    "collapsed": true
   },
   "outputs": [
    {
     "data": {
      "text/plain": [
       "numpy.ndarray"
      ]
     },
     "execution_count": 15,
     "metadata": {},
     "output_type": "execute_result"
    }
   ],
   "source": [
    "print(adjectives.values)\n",
    "print(type(adjectives.values))"
   ]
  },
  {
   "cell_type": "markdown",
   "id": "1c1918a2",
   "metadata": {},
   "source": [
    "## Parameters and Arguments"
   ]
  },
  {
   "cell_type": "code",
   "execution_count": 16,
   "id": "a7eec520",
   "metadata": {},
   "outputs": [],
   "source": [
    "fruits = [\"Apple\",\"Banana\",\"Grapes\",\"Oranges\",\"Plum\"]\n",
    "weekdays = [\"Monday\",\"Tuesday\",\"Wednesday\",\"Thursday\",\"Monday\"]"
   ]
  },
  {
   "cell_type": "code",
   "execution_count": 18,
   "id": "51535fce",
   "metadata": {
    "collapsed": true
   },
   "outputs": [
    {
     "name": "stdout",
     "output_type": "stream",
     "text": [
      "Monday         Apple\n",
      "Tuesday       Banana\n",
      "Wednesday     Grapes\n",
      "Thursday     Oranges\n",
      "Monday          Plum\n",
      "dtype: object\n",
      "Monday         Apple\n",
      "Tuesday       Banana\n",
      "Wednesday     Grapes\n",
      "Thursday     Oranges\n",
      "Monday          Plum\n",
      "dtype: object\n",
      "Apple         Monday\n",
      "Banana       Tuesday\n",
      "Grapes     Wednesday\n",
      "Oranges     Thursday\n",
      "Plum          Monday\n",
      "dtype: object\n"
     ]
    }
   ],
   "source": [
    "# \"Shift+tab\" = we get list of all the possible parameters\n",
    "\n",
    "print(pd.Series(fruits,weekdays)) #If names of parameters are not mentioned, order is important\n",
    "print(pd.Series(data = fruits, index = weekdays))\n",
    "print(pd.Series(index = fruits, data = weekdays)) #If names of parameters are mentioned, order is not important"
   ]
  },
  {
   "cell_type": "markdown",
   "id": "52e9f659",
   "metadata": {},
   "source": [
    "## Reading a dataframe"
   ]
  },
  {
   "cell_type": "code",
   "execution_count": 22,
   "id": "e9a19bac",
   "metadata": {
    "collapsed": true
   },
   "outputs": [
    {
     "data": {
      "text/plain": [
       "0          Bulbasaur\n",
       "1            Ivysaur\n",
       "2           Venusaur\n",
       "3         Charmander\n",
       "4         Charmeleon\n",
       "            ...     \n",
       "1005    Iron Valiant\n",
       "1006        Koraidon\n",
       "1007        Miraidon\n",
       "1008    Walking Wake\n",
       "1009     Iron Leaves\n",
       "Name: Name, Length: 1010, dtype: object"
      ]
     },
     "execution_count": 22,
     "metadata": {},
     "output_type": "execute_result"
    }
   ],
   "source": [
    "pd.read_csv(\"pokemon.csv\",usecols = [\"Name\"]).squeeze(\"columns\")"
   ]
  },
  {
   "cell_type": "markdown",
   "id": "35bbda5c",
   "metadata": {},
   "source": [
    "## Head and tail methods"
   ]
  },
  {
   "cell_type": "code",
   "execution_count": 37,
   "id": "c10b1f19",
   "metadata": {
    "collapsed": true
   },
   "outputs": [
    {
     "data": {
      "text/plain": [
       "0     Bulbasaur\n",
       "1       Ivysaur\n",
       "2      Venusaur\n",
       "3    Charmander\n",
       "4    Charmeleon\n",
       "5     Charizard\n",
       "Name: Name, dtype: object"
      ]
     },
     "execution_count": 37,
     "metadata": {},
     "output_type": "execute_result"
    }
   ],
   "source": [
    "# Gives first n rows mentioned in the head() method\n",
    "pokemon = pd.read_csv(\"pokemon.csv\",usecols = [\"Name\"]).squeeze(\"columns\")\n",
    "pokemon.head(6)"
   ]
  },
  {
   "cell_type": "markdown",
   "id": "2c8f982b",
   "metadata": {},
   "source": [
    "## Passing pandas \"series\" object to built-in funtions"
   ]
  },
  {
   "cell_type": "code",
   "execution_count": 36,
   "id": "3f6a6b36",
   "metadata": {
    "collapsed": true
   },
   "outputs": [
    {
     "data": {
      "text/plain": [
       "151.863495"
      ]
     },
     "execution_count": 36,
     "metadata": {},
     "output_type": "execute_result"
    }
   ],
   "source": [
    "len(pokemon)\n",
    "type(pokemon) #Series\n",
    "list(pokemon) #List\n",
    "sorted(pokemon) #List\n",
    "dict(pokemon) #Dictionary\n",
    "max(pokemon) # Largest alphabetical name \n",
    "min(pokemon) # Smallest alphabetical name "
   ]
  },
  {
   "cell_type": "markdown",
   "id": "03b59c16",
   "metadata": {},
   "source": [
    "## Inclusion"
   ]
  },
  {
   "cell_type": "code",
   "execution_count": 39,
   "id": "f2df63da",
   "metadata": {
    "collapsed": true
   },
   "outputs": [
    {
     "data": {
      "text/plain": [
       "True"
      ]
     },
     "execution_count": 39,
     "metadata": {},
     "output_type": "execute_result"
    }
   ],
   "source": [
    "pokemon.head()"
   ]
  },
  {
   "cell_type": "code",
   "execution_count": 45,
   "id": "8bb739c9",
   "metadata": {
    "collapsed": true
   },
   "outputs": [
    {
     "name": "stdout",
     "output_type": "stream",
     "text": [
      "False\n",
      "True\n"
     ]
    }
   ],
   "source": [
    "print(\"Bulbasaur\" in pokemon) # It checks only series index. Not among series values\n",
    "print(0 in pokemon) #It gives True because 0 is an index"
   ]
  },
  {
   "cell_type": "code",
   "execution_count": 47,
   "id": "d87f5a02",
   "metadata": {
    "collapsed": true
   },
   "outputs": [
    {
     "data": {
      "text/plain": [
       "pandas.core.indexes.range.RangeIndex"
      ]
     },
     "execution_count": 47,
     "metadata": {},
     "output_type": "execute_result"
    }
   ],
   "source": [
    "type(pokemon.index)"
   ]
  },
  {
   "cell_type": "code",
   "execution_count": 48,
   "id": "d4d1a1d1",
   "metadata": {
    "collapsed": true
   },
   "outputs": [
    {
     "name": "stdout",
     "output_type": "stream",
     "text": [
      "['Bulbasaur' 'Ivysaur' 'Venusaur' ... 'Miraidon' 'Walking Wake'\n",
      " 'Iron Leaves']\n",
      "True\n"
     ]
    }
   ],
   "source": [
    "print(pokemon.values) #Gives all underlying values. It is numpy array type\n",
    "print(\"Bulbasaur\" in pokemon.values) #It checks actual values"
   ]
  },
  {
   "cell_type": "markdown",
   "id": "6f74a441",
   "metadata": {},
   "source": [
    "## sort_values"
   ]
  },
  {
   "cell_type": "code",
   "execution_count": 50,
   "id": "e3bcbaa0",
   "metadata": {
    "collapsed": true
   },
   "outputs": [
    {
     "data": {
      "text/plain": [
       "0         2.490664\n",
       "1         2.515820\n",
       "2         2.758411\n",
       "3         2.770615\n",
       "4         2.614201\n",
       "           ...    \n",
       "4788    132.080002\n",
       "4789    132.998001\n",
       "4790    135.570007\n",
       "4791    137.050003\n",
       "4792    138.429993\n",
       "Name: Price, Length: 4793, dtype: float64"
      ]
     },
     "execution_count": 50,
     "metadata": {},
     "output_type": "execute_result"
    }
   ],
   "source": [
    "pd.read_csv(\"google_stock_price.csv\",usecols = [\"Price\"]).squeeze(\"columns\")"
   ]
  },
  {
   "cell_type": "code",
   "execution_count": 51,
   "id": "39ccbf6b",
   "metadata": {
    "collapsed": true
   },
   "outputs": [
    {
     "data": {
      "text/plain": [
       "4792    138.429993\n",
       "Name: Price, dtype: float64"
      ]
     },
     "execution_count": 51,
     "metadata": {},
     "output_type": "execute_result"
    }
   ],
   "source": [
    "# Gives the last n rows mentioned in the tail() method\n",
    "google = pd.read_csv(\"google_stock_price.csv\",usecols = [\"Price\"]).squeeze(\"columns\")"
   ]
  },
  {
   "cell_type": "code",
   "execution_count": 55,
   "id": "c64f3226",
   "metadata": {
    "collapsed": true
   },
   "outputs": [
    {
     "data": {
      "text/plain": [
       "4395    151.863495\n",
       "4345    151.000000\n",
       "4346    150.141754\n",
       "4341    150.000000\n",
       "4336    150.000000\n",
       "           ...    \n",
       "12        2.515820\n",
       "11        2.514326\n",
       "13        2.509095\n",
       "0         2.490664\n",
       "10        2.470490\n",
       "Name: Price, Length: 4793, dtype: float64"
      ]
     },
     "execution_count": 55,
     "metadata": {},
     "output_type": "execute_result"
    }
   ],
   "source": [
    "google.sort_values()  #Ascending by default\n",
    "google.sort_values(ascending = False)"
   ]
  },
  {
   "cell_type": "code",
   "execution_count": 56,
   "id": "efd2adbd",
   "metadata": {
    "collapsed": true
   },
   "outputs": [
    {
     "data": {
      "text/plain": [
       "4395    151.863495\n",
       "4345    151.000000\n",
       "4346    150.141754\n",
       "4341    150.000000\n",
       "4336    150.000000\n",
       "Name: Price, dtype: float64"
      ]
     },
     "execution_count": 56,
     "metadata": {},
     "output_type": "execute_result"
    }
   ],
   "source": [
    "# Combining multiple methods\n",
    "google.sort_values(ascending = False).head()"
   ]
  },
  {
   "cell_type": "markdown",
   "id": "23908fd9",
   "metadata": {},
   "source": [
    "## sort_index"
   ]
  },
  {
   "cell_type": "code",
   "execution_count": 57,
   "id": "50118d5f",
   "metadata": {
    "collapsed": true
   },
   "outputs": [
    {
     "data": {
      "text/plain": [
       "Name\n",
       "Bulbasaur     Grass, Poison\n",
       "Ivysaur       Grass, Poison\n",
       "Venusaur      Grass, Poison\n",
       "Charmander             Fire\n",
       "Charmeleon             Fire\n",
       "Name: Type, dtype: object"
      ]
     },
     "execution_count": 57,
     "metadata": {},
     "output_type": "execute_result"
    }
   ],
   "source": [
    "pokemon = pd.read_csv(\"pokemon.csv\", index_col = \"Name\").squeeze(\"columns\")\n",
    "pokemon.head()"
   ]
  },
  {
   "cell_type": "code",
   "execution_count": 58,
   "id": "9357f6d5",
   "metadata": {
    "collapsed": true
   },
   "outputs": [
    {
     "data": {
      "text/plain": [
       "Name\n",
       "Abomasnow        Grass, Ice\n",
       "Abra                Psychic\n",
       "Absol                  Dark\n",
       "Accelgor                Bug\n",
       "Aegislash      Steel, Ghost\n",
       "                  ...      \n",
       "Zoroark                Dark\n",
       "Zorua                  Dark\n",
       "Zubat        Poison, Flying\n",
       "Zweilous       Dark, Dragon\n",
       "Zygarde      Dragon, Ground\n",
       "Name: Type, Length: 1010, dtype: object"
      ]
     },
     "execution_count": 58,
     "metadata": {},
     "output_type": "execute_result"
    }
   ],
   "source": [
    "pokemon.sort_index()"
   ]
  },
  {
   "cell_type": "code",
   "execution_count": null,
   "id": "949677df",
   "metadata": {},
   "outputs": [],
   "source": []
  },
  {
   "cell_type": "code",
   "execution_count": null,
   "id": "18ba4656",
   "metadata": {},
   "outputs": [],
   "source": []
  },
  {
   "cell_type": "code",
   "execution_count": null,
   "id": "0eff1510",
   "metadata": {},
   "outputs": [],
   "source": []
  },
  {
   "cell_type": "code",
   "execution_count": null,
   "id": "6fb2d311",
   "metadata": {},
   "outputs": [],
   "source": []
  },
  {
   "cell_type": "code",
   "execution_count": null,
   "id": "c147dacb",
   "metadata": {},
   "outputs": [],
   "source": []
  },
  {
   "cell_type": "code",
   "execution_count": null,
   "id": "4f49ad26",
   "metadata": {},
   "outputs": [],
   "source": []
  },
  {
   "cell_type": "code",
   "execution_count": null,
   "id": "4b8179e2",
   "metadata": {},
   "outputs": [],
   "source": []
  }
 ],
 "metadata": {
  "kernelspec": {
   "display_name": "Python 3 (ipykernel)",
   "language": "python",
   "name": "python3"
  },
  "language_info": {
   "codemirror_mode": {
    "name": "ipython",
    "version": 3
   },
   "file_extension": ".py",
   "mimetype": "text/x-python",
   "name": "python",
   "nbconvert_exporter": "python",
   "pygments_lexer": "ipython3",
   "version": "3.9.13"
  }
 },
 "nbformat": 4,
 "nbformat_minor": 5
}
