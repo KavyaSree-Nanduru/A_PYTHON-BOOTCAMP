{
 "cells": [
  {
   "cell_type": "markdown",
   "id": "a4382e0d",
   "metadata": {},
   "source": [
    "# In this notebook:\n",
    "### Variables, Datatypes, Operators, if-elif-else, Testing Multiple Conditions, Loops"
   ]
  },
  {
   "cell_type": "markdown",
   "id": "41f86bf7",
   "metadata": {},
   "source": [
    "## Variables\n",
    "Variables are used to store data values. In Python, you don't need to declare variables explicitly."
   ]
  },
  {
   "cell_type": "code",
   "execution_count": 1,
   "id": "eb4943df",
   "metadata": {
    "collapsed": true
   },
   "outputs": [
    {
     "name": "stdout",
     "output_type": "stream",
     "text": [
      "10\n",
      "3.14\n",
      "Alice\n"
     ]
    }
   ],
   "source": [
    "# Variable assignment\n",
    "x = 10\n",
    "y = 3.14\n",
    "name = \"Alice\"\n",
    "\n",
    "print(x)\n",
    "print(y)\n",
    "print(name)"
   ]
  },
  {
   "cell_type": "markdown",
   "id": "50cd36d5",
   "metadata": {},
   "source": [
    "## Datatypes"
   ]
  },
  {
   "cell_type": "code",
   "execution_count": 3,
   "id": "ecc93044",
   "metadata": {
    "collapsed": true
   },
   "outputs": [
    {
     "name": "stdout",
     "output_type": "stream",
     "text": [
      "10 <class 'int'>\n",
      "3.14 <class 'float'>\n",
      "(3+5j) <class 'complex'>\n"
     ]
    }
   ],
   "source": [
    "# Numeric Types\n",
    "x = 10\n",
    "y = 3.14\n",
    "z = 3 + 5j\n",
    "\n",
    "print(x, type(x))  \n",
    "print(y, type(y))  \n",
    "print(z, type(z)) "
   ]
  },
  {
   "cell_type": "code",
   "execution_count": 10,
   "id": "2383f518",
   "metadata": {
    "collapsed": true
   },
   "outputs": [
    {
     "name": "stdout",
     "output_type": "stream",
     "text": [
      "Hello, World! <class 'str'>\n",
      "['apple', 'banana', 'cherry'] <class 'list'>\n",
      "(10, 20) <class 'tuple'>\n",
      "range(1, 10) <class 'range'>\n"
     ]
    }
   ],
   "source": [
    "# Sequence Types\n",
    "greeting = \"Hello, World!\"\n",
    "fruits = [\"apple\", \"banana\", \"cherry\"]\n",
    "point = (10, 20)\n",
    "numbers = range(1, 10)\n",
    "\n",
    "print(greeting, type(greeting))  \n",
    "print(fruits, type(fruits))      \n",
    "print(point, type(point))        \n",
    "print(numbers, type(numbers))   "
   ]
  },
  {
   "cell_type": "code",
   "execution_count": 5,
   "id": "b1ccff7b",
   "metadata": {
    "collapsed": true
   },
   "outputs": [
    {
     "name": "stdout",
     "output_type": "stream",
     "text": [
      "{'name': 'John', 'age': 30} <class 'dict'>\n"
     ]
    }
   ],
   "source": [
    "# Mapping Type\n",
    "person = {\"name\": \"John\", \"age\": 30}\n",
    "print(person, type(person))  "
   ]
  },
  {
   "cell_type": "code",
   "execution_count": 6,
   "id": "8eeb3c7f",
   "metadata": {
    "collapsed": true
   },
   "outputs": [
    {
     "name": "stdout",
     "output_type": "stream",
     "text": [
      "{1, 2, 3, 4, 5} <class 'set'>\n",
      "frozenset({1, 2, 3, 4, 5}) <class 'frozenset'>\n"
     ]
    }
   ],
   "source": [
    "# Set Types\n",
    "unique_numbers = {1, 2, 3, 4, 5}\n",
    "frozen_numbers = frozenset([1, 2, 3, 4, 5])\n",
    "\n",
    "print(unique_numbers, type(unique_numbers))  \n",
    "print(frozen_numbers, type(frozen_numbers)) "
   ]
  },
  {
   "cell_type": "code",
   "execution_count": 7,
   "id": "dd04d24b",
   "metadata": {
    "collapsed": true
   },
   "outputs": [
    {
     "name": "stdout",
     "output_type": "stream",
     "text": [
      "True <class 'bool'>\n",
      "False <class 'bool'>\n"
     ]
    }
   ],
   "source": [
    "# Boolean Type\n",
    "is_valid = True\n",
    "is_empty = False\n",
    "\n",
    "print(is_valid, type(is_valid)) \n",
    "print(is_empty, type(is_empty))  "
   ]
  },
  {
   "cell_type": "code",
   "execution_count": 8,
   "id": "bf4f2631",
   "metadata": {
    "collapsed": true
   },
   "outputs": [
    {
     "name": "stdout",
     "output_type": "stream",
     "text": [
      "b'Hello' <class 'bytes'>\n",
      "bytearray(b'Hello') <class 'bytearray'>\n",
      "<memory at 0x00000242015BB400> <class 'memoryview'>\n"
     ]
    }
   ],
   "source": [
    "# Binary Types\n",
    "byte_data = b\"Hello\"\n",
    "mutable_byte_data = bytearray(b\"Hello\")\n",
    "mem_view = memoryview(byte_data)\n",
    "\n",
    "print(byte_data, type(byte_data))         \n",
    "print(mutable_byte_data, type(mutable_byte_data))  \n",
    "print(mem_view, type(mem_view))            "
   ]
  },
  {
   "cell_type": "code",
   "execution_count": 9,
   "id": "b38813de",
   "metadata": {
    "collapsed": true
   },
   "outputs": [
    {
     "name": "stdout",
     "output_type": "stream",
     "text": [
      "None <class 'NoneType'>\n"
     ]
    }
   ],
   "source": [
    "# None Type\n",
    "result = None\n",
    "print(result, type(result))  "
   ]
  },
  {
   "cell_type": "markdown",
   "id": "877263d2",
   "metadata": {},
   "source": [
    "## Operators"
   ]
  },
  {
   "cell_type": "code",
   "execution_count": 11,
   "id": "7353eead",
   "metadata": {
    "collapsed": true
   },
   "outputs": [
    {
     "name": "stdout",
     "output_type": "stream",
     "text": [
      "Addition: 13\n",
      "Subtraction: 7\n",
      "Multiplication: 30\n",
      "Division: 3.3333333333333335\n",
      "Floor Division or Quotient: 3\n",
      "Modulus or Remainder: 1\n",
      "Exponentiation: 1000\n"
     ]
    }
   ],
   "source": [
    "# Arithmetic Operators\n",
    "x = 10\n",
    "y = 3\n",
    "print(\"Addition:\", x + y)             \n",
    "print(\"Subtraction:\", x - y)          \n",
    "print(\"Multiplication:\", x * y)       \n",
    "print(\"Division:\", x / y)            \n",
    "print(\"Floor Division or Quotient:\", x // y)     \n",
    "print(\"Modulus or Remainder:\", x % y)             \n",
    "print(\"Exponentiation:\", x ** y)      "
   ]
  },
  {
   "cell_type": "code",
   "execution_count": 13,
   "id": "ff569708",
   "metadata": {
    "collapsed": true
   },
   "outputs": [
    {
     "name": "stdout",
     "output_type": "stream",
     "text": [
      "Equal to: False\n",
      "Not equal to: True\n",
      "Greater than: True\n",
      "Less than: False\n",
      "Greater than or equal to: True\n",
      "Less than or equal to: False\n"
     ]
    }
   ],
   "source": [
    "# Comparison Operators\n",
    "print(\"Equal to:\", x == y)            \n",
    "print(\"Not equal to:\", x != y)        \n",
    "print(\"Greater than:\", x > y)         \n",
    "print(\"Less than:\", x < y)           \n",
    "print(\"Greater than or equal to:\", x >= y) \n",
    "print(\"Less than or equal to:\", x <= y)     "
   ]
  },
  {
   "cell_type": "code",
   "execution_count": 14,
   "id": "9fe31a5e",
   "metadata": {
    "collapsed": true
   },
   "outputs": [
    {
     "name": "stdout",
     "output_type": "stream",
     "text": [
      "Logical AND: False\n",
      "Logical OR: True\n",
      "Logical NOT: False\n"
     ]
    }
   ],
   "source": [
    "# Logical Operators\n",
    "a = True\n",
    "b = False\n",
    "print(\"Logical AND:\", a and b)        \n",
    "print(\"Logical OR:\", a or b)          \n",
    "print(\"Logical NOT:\", not a)         "
   ]
  },
  {
   "cell_type": "code",
   "execution_count": 15,
   "id": "c270a7f1",
   "metadata": {
    "collapsed": true
   },
   "outputs": [
    {
     "name": "stdout",
     "output_type": "stream",
     "text": [
      "Bitwise AND: 0\n",
      "Bitwise OR: 14\n",
      "Bitwise XOR: 14\n",
      "Bitwise NOT: -11\n",
      "Bitwise left shift: 40\n",
      "Bitwise right shift: 2\n"
     ]
    }
   ],
   "source": [
    "# Bitwise Operators\n",
    "a = 10  # Binary: 1010\n",
    "b = 4   # Binary: 0100\n",
    "print(\"Bitwise AND:\", a & b)          # Output: 0 (Binary: 0000)\n",
    "print(\"Bitwise OR:\", a | b)           # Output: 14 (Binary: 1110)\n",
    "print(\"Bitwise XOR:\", a ^ b)          # Output: 14 (Binary: 1110)\n",
    "print(\"Bitwise NOT:\", ~a)             # Output: -11 (Binary: 1111...0101)\n",
    "print(\"Bitwise left shift:\", a << 2)  # Output: 40 (Binary: 101000)\n",
    "print(\"Bitwise right shift:\", a >> 2) # Output: 2 (Binary: 10)"
   ]
  },
  {
   "cell_type": "code",
   "execution_count": 16,
   "id": "ec5d1353",
   "metadata": {
    "collapsed": true
   },
   "outputs": [
    {
     "name": "stdout",
     "output_type": "stream",
     "text": [
      "Addition assignment: 8\n",
      "Subtraction assignment: 6\n",
      "Multiplication assignment: 12\n",
      "Division assignment: 4.0\n",
      "Floor division assignment: 2.0\n",
      "Modulus assignment: 0.0\n",
      "Exponentiation assignment: 0.0\n",
      "Bitwise AND assignment: 1\n",
      "Bitwise OR assignment: 3\n",
      "Bitwise XOR assignment: 2\n",
      "Bitwise left shift assignment: 8\n",
      "Bitwise right shift assignment: 2\n"
     ]
    }
   ],
   "source": [
    "# Assignment Operators\n",
    "a = 5\n",
    "a += 3\n",
    "print(\"Addition assignment:\", a)     "
   ]
  },
  {
   "cell_type": "code",
   "execution_count": 17,
   "id": "4d9915b5",
   "metadata": {
    "collapsed": true
   },
   "outputs": [
    {
     "name": "stdout",
     "output_type": "stream",
     "text": [
      "a is b: True\n",
      "a is c: True\n"
     ]
    }
   ],
   "source": [
    "# Identity Operators\n",
    "a = [1, 2, 3]\n",
    "b = a\n",
    "c = [1, 2, 3]\n",
    "print(\"a is b:\", a is b)              \n",
    "print(\"a is c:\", a is not c)          "
   ]
  },
  {
   "cell_type": "code",
   "execution_count": 19,
   "id": "c6ff6280",
   "metadata": {
    "collapsed": true
   },
   "outputs": [
    {
     "name": "stdout",
     "output_type": "stream",
     "text": [
      "'banana' in fruits: True\n",
      "'grape' not in fruits: True\n"
     ]
    }
   ],
   "source": [
    "# Membership Operators\n",
    "fruits = [\"apple\", \"banana\", \"cherry\"]\n",
    "print(\"'banana' in fruits:\", \"banana\" in fruits) \n",
    "print(\"'grape' not in fruits:\", \"grape\" not in fruits)"
   ]
  },
  {
   "cell_type": "markdown",
   "id": "7132a437",
   "metadata": {},
   "source": [
    "## if, elif, else"
   ]
  },
  {
   "cell_type": "code",
   "execution_count": 2,
   "id": "6dc6a454",
   "metadata": {
    "collapsed": true
   },
   "outputs": [
    {
     "name": "stdout",
     "output_type": "stream",
     "text": [
      "Marie, you can post a response if you wish.\n"
     ]
    }
   ],
   "source": [
    "banned_users = ['andrew', 'carolina', 'david']\n",
    "user = 'marie'\n",
    "if user not in banned_users:\n",
    "    print(f\"{user.title()}, you can post a response if you wish.\")"
   ]
  },
  {
   "cell_type": "code",
   "execution_count": 5,
   "id": "0b588626",
   "metadata": {
    "collapsed": true
   },
   "outputs": [
    {
     "name": "stdout",
     "output_type": "stream",
     "text": [
      "Sorry, you are too young to vote.\n"
     ]
    }
   ],
   "source": [
    "age = 17\n",
    "if age >= 18:\n",
    "    print(\"You are old enough to vote!\")\n",
    "else:\n",
    "    print(\"Sorry, you are too young to vote.\")"
   ]
  },
  {
   "cell_type": "code",
   "execution_count": 7,
   "id": "a675ef18",
   "metadata": {
    "collapsed": true
   },
   "outputs": [
    {
     "name": "stdout",
     "output_type": "stream",
     "text": [
      "Your admission cost is $25.\n"
     ]
    }
   ],
   "source": [
    "age = 12\n",
    "if age < 4:\n",
    "    price = 0\n",
    "elif age < 18:\n",
    "    price = 25\n",
    "else:\n",
    "    price = 40\n",
    "print(f\"Your admission cost is ${price}.\")"
   ]
  },
  {
   "cell_type": "code",
   "execution_count": 8,
   "id": "10610976",
   "metadata": {
    "collapsed": true
   },
   "outputs": [
    {
     "name": "stdout",
     "output_type": "stream",
     "text": [
      "Your admission cost is $25.\n"
     ]
    }
   ],
   "source": [
    "# It is not mandatory to use \"else\" at the end of the chain\n",
    "age = 12\n",
    "if age < 4:\n",
    "    price = 0\n",
    "elif age < 18:\n",
    "    price = 25\n",
    "elif age < 65:\n",
    "    price = 40\n",
    "elif age >= 65:\n",
    "     price = 20\n",
    "print(f\"Your admission cost is ${price}.\")"
   ]
  },
  {
   "cell_type": "markdown",
   "id": "b9e845fc",
   "metadata": {},
   "source": [
    "## Testing Multiple Conditions"
   ]
  },
  {
   "cell_type": "code",
   "execution_count": 10,
   "id": "46b71a61",
   "metadata": {
    "collapsed": true
   },
   "outputs": [
    {
     "name": "stdout",
     "output_type": "stream",
     "text": [
      "Adding mushrooms.\n",
      "Adding extra cheese.\n",
      "\n",
      "Finished making your pizza!\n"
     ]
    }
   ],
   "source": [
    "requested_toppings = ['mushrooms', 'extra cheese']\n",
    "if 'mushrooms' in requested_toppings:\n",
    "    print(\"Adding mushrooms.\")\n",
    "if 'pepperoni' in requested_toppings:\n",
    "    print(\"Adding pepperoni.\")\n",
    "if 'extra cheese' in requested_toppings:\n",
    "    print(\"Adding extra cheese.\")\n",
    "print(\"\\nFinished making your pizza!\")"
   ]
  },
  {
   "cell_type": "code",
   "execution_count": 9,
   "id": "d22622c3",
   "metadata": {
    "collapsed": true
   },
   "outputs": [
    {
     "name": "stdout",
     "output_type": "stream",
     "text": [
      "Adding mushrooms\n",
      "Adding green peppers\n",
      "Adding extra cheese\n",
      "\n",
      "Finished making your pizza!\n"
     ]
    }
   ],
   "source": [
    "# Above code can also be written using Loops. \n",
    "requested_toppings = ['mushrooms', 'green peppers', 'extra cheese']\n",
    "for i in requested_toppings:\n",
    "    print(f\"Adding {i}\")\n",
    "print(\"\\nFinished making your pizza!\")"
   ]
  },
  {
   "cell_type": "markdown",
   "id": "3447175b",
   "metadata": {},
   "source": [
    "## Loops"
   ]
  },
  {
   "cell_type": "code",
   "execution_count": 13,
   "id": "7168091f",
   "metadata": {
    "collapsed": true
   },
   "outputs": [
    {
     "name": "stdout",
     "output_type": "stream",
     "text": [
      "Audi\n",
      "BMW\n",
      "Subaru\n",
      "Toyota\n"
     ]
    }
   ],
   "source": [
    "cars = ['audi', 'bmw', 'subaru', 'toyota']\n",
    "for i in cars:\n",
    "    if i == 'bmw':\n",
    "        print(i.upper())\n",
    "    else:\n",
    "        print(i.title())"
   ]
  },
  {
   "cell_type": "code",
   "execution_count": 12,
   "id": "9ff1de6a",
   "metadata": {
    "collapsed": true
   },
   "outputs": [
    {
     "name": "stdout",
     "output_type": "stream",
     "text": [
      "Adding mushrooms\n",
      "Sorry, we are out of green peppers right now.\n",
      "Adding extra cheese\n",
      "\n",
      "Finished making your pizza!\n"
     ]
    }
   ],
   "source": [
    "requested_toppings = ['mushrooms', 'green peppers', 'extra cheese']\n",
    "for i in requested_toppings:\n",
    "    if i == 'green peppers':\n",
    "        print(\"Sorry, we are out of green peppers right now.\")\n",
    "    else:\n",
    "        print(f\"Adding {i}\")\n",
    "print(\"\\nFinished making your pizza!\")"
   ]
  },
  {
   "cell_type": "code",
   "execution_count": 15,
   "id": "15e75f93",
   "metadata": {
    "collapsed": true
   },
   "outputs": [
    {
     "name": "stdout",
     "output_type": "stream",
     "text": [
      "Adding mushrooms.\n",
      "Sorry, we don't have french fries.\n",
      "Adding extra cheese.\n",
      "\n",
      "Finished making your pizza!\n"
     ]
    }
   ],
   "source": [
    "available_toppings = ['mushrooms', 'olives', 'green peppers','pepperoni', 'pineapple', 'extra cheese']\n",
    "requested_toppings = ['mushrooms', 'french fries', 'extra cheese']\n",
    "for i in requested_toppings:\n",
    "    if i in available_toppings:\n",
    "        print(f\"Adding {i}.\")\n",
    "    else:\n",
    "        print(f\"Sorry, we don't have {i}.\")\n",
    "print(\"\\nFinished making your pizza!\")"
   ]
  }
 ],
 "metadata": {
  "kernelspec": {
   "display_name": "Python 3 (ipykernel)",
   "language": "python",
   "name": "python3"
  },
  "language_info": {
   "codemirror_mode": {
    "name": "ipython",
    "version": 3
   },
   "file_extension": ".py",
   "mimetype": "text/x-python",
   "name": "python",
   "nbconvert_exporter": "python",
   "pygments_lexer": "ipython3",
   "version": "3.9.13"
  }
 },
 "nbformat": 4,
 "nbformat_minor": 5
}
